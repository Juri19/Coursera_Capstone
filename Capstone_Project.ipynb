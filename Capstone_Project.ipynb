{
 "cells": [
  {
   "cell_type": "code",
   "execution_count": 345,
   "metadata": {},
   "outputs": [],
   "source": [
    "import pandas as pd\n",
    "import matplotlib.pylab as plt\n",
    "import numpy as np\n"
   ]
  },
  {
   "cell_type": "code",
   "execution_count": 346,
   "metadata": {},
   "outputs": [],
   "source": [
    "df = pd.read_excel('C:\\\\Users\\osipo\\Documents\\TRAININGS\\IBM Data Science\\CAPSTONE\\Traffic accidents_2017_2018_2019_Leeds_UK_rev4.xls')"
   ]
  },
  {
   "cell_type": "code",
   "execution_count": 347,
   "metadata": {},
   "outputs": [
    {
     "data": {
      "text/html": [
       "<div>\n",
       "<style scoped>\n",
       "    .dataframe tbody tr th:only-of-type {\n",
       "        vertical-align: middle;\n",
       "    }\n",
       "\n",
       "    .dataframe tbody tr th {\n",
       "        vertical-align: top;\n",
       "    }\n",
       "\n",
       "    .dataframe thead th {\n",
       "        text-align: right;\n",
       "    }\n",
       "</style>\n",
       "<table border=\"1\" class=\"dataframe\">\n",
       "  <thead>\n",
       "    <tr style=\"text-align: right;\">\n",
       "      <th></th>\n",
       "      <th>Reference Number</th>\n",
       "      <th>Grid Ref: Easting</th>\n",
       "      <th>Grid Ref: Northing</th>\n",
       "      <th>Number of Vehicles</th>\n",
       "      <th>Accident Date</th>\n",
       "      <th>Time (24hr)</th>\n",
       "      <th>Time(3hrs)</th>\n",
       "      <th>1st Road Class</th>\n",
       "      <th>1st Road Class &amp; No</th>\n",
       "      <th>Road Surface</th>\n",
       "      <th>Lighting Conditions</th>\n",
       "      <th>Weather Conditions</th>\n",
       "      <th>Local Authority</th>\n",
       "      <th>Vehicle Number</th>\n",
       "      <th>Type of Vehicle</th>\n",
       "      <th>Casualty Class</th>\n",
       "      <th>Casualty Severity</th>\n",
       "      <th>Casualty Descr</th>\n",
       "      <th>Sex of Casualty</th>\n",
       "      <th>Age of Casualty</th>\n",
       "    </tr>\n",
       "  </thead>\n",
       "  <tbody>\n",
       "    <tr>\n",
       "      <th>6100</th>\n",
       "      <td>4CV0902</td>\n",
       "      <td>430343</td>\n",
       "      <td>431175</td>\n",
       "      <td>2</td>\n",
       "      <td>12/31/2017</td>\n",
       "      <td>15:15:00</td>\n",
       "      <td>15:00:00</td>\n",
       "      <td>U</td>\n",
       "      <td>NaN</td>\n",
       "      <td>Snow</td>\n",
       "      <td>Daylight: street lights present</td>\n",
       "      <td>Snowing without high winds</td>\n",
       "      <td>NaN</td>\n",
       "      <td>NaN</td>\n",
       "      <td>Car</td>\n",
       "      <td>2</td>\n",
       "      <td>3</td>\n",
       "      <td>Slight</td>\n",
       "      <td>Male</td>\n",
       "      <td>21</td>\n",
       "    </tr>\n",
       "    <tr>\n",
       "      <th>6101</th>\n",
       "      <td>4CV1387</td>\n",
       "      <td>427748</td>\n",
       "      <td>436446</td>\n",
       "      <td>3</td>\n",
       "      <td>12/31/2017</td>\n",
       "      <td>19:35:00</td>\n",
       "      <td>18:00:00</td>\n",
       "      <td>U</td>\n",
       "      <td>NaN</td>\n",
       "      <td>Wet/Damp</td>\n",
       "      <td>Darkness: street lights present and lit</td>\n",
       "      <td>Raining without high winds</td>\n",
       "      <td>NaN</td>\n",
       "      <td>NaN</td>\n",
       "      <td>Motorcycle over 12 and up to 500cc</td>\n",
       "      <td>1</td>\n",
       "      <td>3</td>\n",
       "      <td>Slight</td>\n",
       "      <td>Male</td>\n",
       "      <td>23</td>\n",
       "    </tr>\n",
       "    <tr>\n",
       "      <th>6102</th>\n",
       "      <td>4CV1544</td>\n",
       "      <td>420323</td>\n",
       "      <td>434279</td>\n",
       "      <td>2</td>\n",
       "      <td>12/31/2017</td>\n",
       "      <td>21:11:00</td>\n",
       "      <td>21:00:00</td>\n",
       "      <td>B6381</td>\n",
       "      <td>NaN</td>\n",
       "      <td>Wet/Damp</td>\n",
       "      <td>Darkness: street lights present and lit</td>\n",
       "      <td>Raining without high winds</td>\n",
       "      <td>NaN</td>\n",
       "      <td>NaN</td>\n",
       "      <td>Car</td>\n",
       "      <td>1</td>\n",
       "      <td>3</td>\n",
       "      <td>Slight</td>\n",
       "      <td>Male</td>\n",
       "      <td>20</td>\n",
       "    </tr>\n",
       "    <tr>\n",
       "      <th>6103</th>\n",
       "      <td>51B1932</td>\n",
       "      <td>431947</td>\n",
       "      <td>435868</td>\n",
       "      <td>2</td>\n",
       "      <td>2017-11-01 00:00:00</td>\n",
       "      <td>23:20:00</td>\n",
       "      <td>21:00:00</td>\n",
       "      <td>U</td>\n",
       "      <td>NaN</td>\n",
       "      <td>Wet/Damp</td>\n",
       "      <td>Darkness: street lights present and lit</td>\n",
       "      <td>Fine without high winds</td>\n",
       "      <td>NaN</td>\n",
       "      <td>NaN</td>\n",
       "      <td>Motorcycle over 500cc0cc and under</td>\n",
       "      <td>1</td>\n",
       "      <td>2</td>\n",
       "      <td>Serious</td>\n",
       "      <td>Male</td>\n",
       "      <td>34</td>\n",
       "    </tr>\n",
       "    <tr>\n",
       "      <th>6104</th>\n",
       "      <td>56R0735</td>\n",
       "      <td>421554</td>\n",
       "      <td>435973</td>\n",
       "      <td>2</td>\n",
       "      <td>6/27/2017</td>\n",
       "      <td>14:00:00</td>\n",
       "      <td>12:00:00</td>\n",
       "      <td>U</td>\n",
       "      <td>NaN</td>\n",
       "      <td>Wet/Damp</td>\n",
       "      <td>Daylight: street lights present</td>\n",
       "      <td>Raining without high winds</td>\n",
       "      <td>NaN</td>\n",
       "      <td>NaN</td>\n",
       "      <td>Car</td>\n",
       "      <td>1</td>\n",
       "      <td>3</td>\n",
       "      <td>Slight</td>\n",
       "      <td>Male</td>\n",
       "      <td>27</td>\n",
       "    </tr>\n",
       "  </tbody>\n",
       "</table>\n",
       "</div>"
      ],
      "text/plain": [
       "     Reference Number  Grid Ref: Easting  Grid Ref: Northing  \\\n",
       "6100          4CV0902             430343              431175   \n",
       "6101          4CV1387             427748              436446   \n",
       "6102          4CV1544             420323              434279   \n",
       "6103          51B1932             431947              435868   \n",
       "6104          56R0735             421554              435973   \n",
       "\n",
       "      Number of Vehicles        Accident Date Time (24hr) Time(3hrs)  \\\n",
       "6100                   2           12/31/2017    15:15:00   15:00:00   \n",
       "6101                   3           12/31/2017    19:35:00   18:00:00   \n",
       "6102                   2           12/31/2017    21:11:00   21:00:00   \n",
       "6103                   2  2017-11-01 00:00:00    23:20:00   21:00:00   \n",
       "6104                   2            6/27/2017    14:00:00   12:00:00   \n",
       "\n",
       "     1st Road Class 1st Road Class & No Road Surface  \\\n",
       "6100              U                 NaN         Snow   \n",
       "6101              U                 NaN     Wet/Damp   \n",
       "6102          B6381                 NaN     Wet/Damp   \n",
       "6103              U                 NaN     Wet/Damp   \n",
       "6104              U                 NaN     Wet/Damp   \n",
       "\n",
       "                          Lighting Conditions          Weather Conditions  \\\n",
       "6100          Daylight: street lights present  Snowing without high winds   \n",
       "6101  Darkness: street lights present and lit  Raining without high winds   \n",
       "6102  Darkness: street lights present and lit  Raining without high winds   \n",
       "6103  Darkness: street lights present and lit     Fine without high winds   \n",
       "6104          Daylight: street lights present  Raining without high winds   \n",
       "\n",
       "     Local Authority  Vehicle Number                     Type of Vehicle  \\\n",
       "6100             NaN             NaN                                 Car   \n",
       "6101             NaN             NaN  Motorcycle over 12 and up to 500cc   \n",
       "6102             NaN             NaN                                 Car   \n",
       "6103             NaN             NaN  Motorcycle over 500cc0cc and under   \n",
       "6104             NaN             NaN                                 Car   \n",
       "\n",
       "      Casualty Class  Casualty Severity Casualty Descr Sex of Casualty  \\\n",
       "6100               2                  3         Slight            Male   \n",
       "6101               1                  3         Slight            Male   \n",
       "6102               1                  3         Slight            Male   \n",
       "6103               1                  2        Serious            Male   \n",
       "6104               1                  3         Slight            Male   \n",
       "\n",
       "      Age of Casualty  \n",
       "6100               21  \n",
       "6101               23  \n",
       "6102               20  \n",
       "6103               34  \n",
       "6104               27  "
      ]
     },
     "execution_count": 347,
     "metadata": {},
     "output_type": "execute_result"
    }
   ],
   "source": [
    "df.tail()"
   ]
  },
  {
   "cell_type": "code",
   "execution_count": 348,
   "metadata": {},
   "outputs": [
    {
     "name": "stdout",
     "output_type": "stream",
     "text": [
      "Reference Number\n",
      "False    6105\n",
      "Name: Reference Number, dtype: int64\n",
      "\n",
      "Grid Ref: Easting\n",
      "False    6105\n",
      "Name: Grid Ref: Easting, dtype: int64\n",
      "\n",
      "Grid Ref: Northing\n",
      "False    6105\n",
      "Name: Grid Ref: Northing, dtype: int64\n",
      "\n",
      "Number of Vehicles\n",
      "False    6105\n",
      "Name: Number of Vehicles, dtype: int64\n",
      "\n",
      "Accident Date\n",
      "False    6105\n",
      "Name: Accident Date, dtype: int64\n",
      "\n",
      "Time (24hr)\n",
      "False    6105\n",
      "Name: Time (24hr), dtype: int64\n",
      "\n",
      "Time(3hrs)\n",
      "False    6105\n",
      "Name: Time(3hrs), dtype: int64\n",
      "\n",
      "1st Road Class\n",
      "False    6105\n",
      "Name: 1st Road Class, dtype: int64\n",
      "\n",
      "1st Road Class & No\n",
      "False    3902\n",
      "True     2203\n",
      "Name: 1st Road Class & No, dtype: int64\n",
      "\n",
      "Road Surface\n",
      "False    6105\n",
      "Name: Road Surface, dtype: int64\n",
      "\n",
      "Lighting Conditions\n",
      "False    6105\n",
      "Name: Lighting Conditions, dtype: int64\n",
      "\n",
      "Weather Conditions\n",
      "False    6105\n",
      "Name: Weather Conditions, dtype: int64\n",
      "\n",
      "Local Authority\n",
      "False    3902\n",
      "True     2203\n",
      "Name: Local Authority, dtype: int64\n",
      "\n",
      "Vehicle Number\n",
      "False    3902\n",
      "True     2203\n",
      "Name: Vehicle Number, dtype: int64\n",
      "\n",
      "Type of Vehicle\n",
      "False    6105\n",
      "Name: Type of Vehicle, dtype: int64\n",
      "\n",
      "Casualty Class\n",
      "False    6105\n",
      "Name: Casualty Class, dtype: int64\n",
      "\n",
      "Casualty Severity\n",
      "False    6105\n",
      "Name: Casualty Severity, dtype: int64\n",
      "\n",
      "Casualty Descr\n",
      "False    6105\n",
      "Name: Casualty Descr, dtype: int64\n",
      "\n",
      "Sex of Casualty\n",
      "False    6105\n",
      "Name: Sex of Casualty, dtype: int64\n",
      "\n",
      "Age of Casualty\n",
      "False    6105\n",
      "Name: Age of Casualty, dtype: int64\n",
      "\n"
     ]
    }
   ],
   "source": [
    "#Checkinh how much missing values we have\n",
    "missing_data = df.isnull()\n",
    "\n",
    "for column in missing_data.columns.values.tolist():\n",
    "    print(column)\n",
    "    print (missing_data[column].value_counts())\n",
    "    print(\"\")    "
   ]
  },
  {
   "cell_type": "code",
   "execution_count": 349,
   "metadata": {},
   "outputs": [
    {
     "name": "stdout",
     "output_type": "stream",
     "text": [
      "average of vehicle number 1.530497180932855\n"
     ]
    }
   ],
   "source": [
    "avg_vehicle_number = df['Vehicle Number'].astype(float).mean(axis=0)\n",
    "print('average of vehicle number', avg_vehicle_number)"
   ]
  },
  {
   "cell_type": "code",
   "execution_count": 350,
   "metadata": {},
   "outputs": [
    {
     "data": {
      "text/plain": [
       "1.0    2035\n",
       "2.0    1704\n",
       "3.0     132\n",
       "4.0      25\n",
       "5.0       4\n",
       "7.0       1\n",
       "6.0       1\n",
       "Name: Vehicle Number, dtype: int64"
      ]
     },
     "execution_count": 350,
     "metadata": {},
     "output_type": "execute_result"
    }
   ],
   "source": [
    "df['Vehicle Number'].value_counts()"
   ]
  },
  {
   "cell_type": "code",
   "execution_count": 351,
   "metadata": {},
   "outputs": [
    {
     "data": {
      "text/html": [
       "<div>\n",
       "<style scoped>\n",
       "    .dataframe tbody tr th:only-of-type {\n",
       "        vertical-align: middle;\n",
       "    }\n",
       "\n",
       "    .dataframe tbody tr th {\n",
       "        vertical-align: top;\n",
       "    }\n",
       "\n",
       "    .dataframe thead th {\n",
       "        text-align: right;\n",
       "    }\n",
       "</style>\n",
       "<table border=\"1\" class=\"dataframe\">\n",
       "  <thead>\n",
       "    <tr style=\"text-align: right;\">\n",
       "      <th></th>\n",
       "      <th>Reference Number</th>\n",
       "      <th>Grid Ref: Easting</th>\n",
       "      <th>Grid Ref: Northing</th>\n",
       "      <th>Number of Vehicles</th>\n",
       "      <th>Accident Date</th>\n",
       "      <th>Time (24hr)</th>\n",
       "      <th>Time(3hrs)</th>\n",
       "      <th>1st Road Class</th>\n",
       "      <th>1st Road Class &amp; No</th>\n",
       "      <th>Road Surface</th>\n",
       "      <th>Lighting Conditions</th>\n",
       "      <th>Weather Conditions</th>\n",
       "      <th>Local Authority</th>\n",
       "      <th>Vehicle Number</th>\n",
       "      <th>Type of Vehicle</th>\n",
       "      <th>Casualty Class</th>\n",
       "      <th>Casualty Severity</th>\n",
       "      <th>Casualty Descr</th>\n",
       "      <th>Sex of Casualty</th>\n",
       "      <th>Age of Casualty</th>\n",
       "    </tr>\n",
       "  </thead>\n",
       "  <tbody>\n",
       "    <tr>\n",
       "      <th>6100</th>\n",
       "      <td>4CV0902</td>\n",
       "      <td>430343</td>\n",
       "      <td>431175</td>\n",
       "      <td>2</td>\n",
       "      <td>12/31/2017</td>\n",
       "      <td>15:15:00</td>\n",
       "      <td>15:00:00</td>\n",
       "      <td>U</td>\n",
       "      <td>NaN</td>\n",
       "      <td>Snow</td>\n",
       "      <td>Daylight: street lights present</td>\n",
       "      <td>Snowing without high winds</td>\n",
       "      <td>NaN</td>\n",
       "      <td>NaN</td>\n",
       "      <td>Car</td>\n",
       "      <td>2</td>\n",
       "      <td>3</td>\n",
       "      <td>Slight</td>\n",
       "      <td>Male</td>\n",
       "      <td>21</td>\n",
       "    </tr>\n",
       "    <tr>\n",
       "      <th>6101</th>\n",
       "      <td>4CV1387</td>\n",
       "      <td>427748</td>\n",
       "      <td>436446</td>\n",
       "      <td>3</td>\n",
       "      <td>12/31/2017</td>\n",
       "      <td>19:35:00</td>\n",
       "      <td>18:00:00</td>\n",
       "      <td>U</td>\n",
       "      <td>NaN</td>\n",
       "      <td>Wet/Damp</td>\n",
       "      <td>Darkness: street lights present and lit</td>\n",
       "      <td>Raining without high winds</td>\n",
       "      <td>NaN</td>\n",
       "      <td>NaN</td>\n",
       "      <td>Motorcycle over 12 and up to 500cc</td>\n",
       "      <td>1</td>\n",
       "      <td>3</td>\n",
       "      <td>Slight</td>\n",
       "      <td>Male</td>\n",
       "      <td>23</td>\n",
       "    </tr>\n",
       "    <tr>\n",
       "      <th>6102</th>\n",
       "      <td>4CV1544</td>\n",
       "      <td>420323</td>\n",
       "      <td>434279</td>\n",
       "      <td>2</td>\n",
       "      <td>12/31/2017</td>\n",
       "      <td>21:11:00</td>\n",
       "      <td>21:00:00</td>\n",
       "      <td>B6381</td>\n",
       "      <td>NaN</td>\n",
       "      <td>Wet/Damp</td>\n",
       "      <td>Darkness: street lights present and lit</td>\n",
       "      <td>Raining without high winds</td>\n",
       "      <td>NaN</td>\n",
       "      <td>NaN</td>\n",
       "      <td>Car</td>\n",
       "      <td>1</td>\n",
       "      <td>3</td>\n",
       "      <td>Slight</td>\n",
       "      <td>Male</td>\n",
       "      <td>20</td>\n",
       "    </tr>\n",
       "    <tr>\n",
       "      <th>6103</th>\n",
       "      <td>51B1932</td>\n",
       "      <td>431947</td>\n",
       "      <td>435868</td>\n",
       "      <td>2</td>\n",
       "      <td>2017-11-01 00:00:00</td>\n",
       "      <td>23:20:00</td>\n",
       "      <td>21:00:00</td>\n",
       "      <td>U</td>\n",
       "      <td>NaN</td>\n",
       "      <td>Wet/Damp</td>\n",
       "      <td>Darkness: street lights present and lit</td>\n",
       "      <td>Fine without high winds</td>\n",
       "      <td>NaN</td>\n",
       "      <td>NaN</td>\n",
       "      <td>Motorcycle over 500cc0cc and under</td>\n",
       "      <td>1</td>\n",
       "      <td>2</td>\n",
       "      <td>Serious</td>\n",
       "      <td>Male</td>\n",
       "      <td>34</td>\n",
       "    </tr>\n",
       "    <tr>\n",
       "      <th>6104</th>\n",
       "      <td>56R0735</td>\n",
       "      <td>421554</td>\n",
       "      <td>435973</td>\n",
       "      <td>2</td>\n",
       "      <td>6/27/2017</td>\n",
       "      <td>14:00:00</td>\n",
       "      <td>12:00:00</td>\n",
       "      <td>U</td>\n",
       "      <td>NaN</td>\n",
       "      <td>Wet/Damp</td>\n",
       "      <td>Daylight: street lights present</td>\n",
       "      <td>Raining without high winds</td>\n",
       "      <td>NaN</td>\n",
       "      <td>NaN</td>\n",
       "      <td>Car</td>\n",
       "      <td>1</td>\n",
       "      <td>3</td>\n",
       "      <td>Slight</td>\n",
       "      <td>Male</td>\n",
       "      <td>27</td>\n",
       "    </tr>\n",
       "  </tbody>\n",
       "</table>\n",
       "</div>"
      ],
      "text/plain": [
       "     Reference Number  Grid Ref: Easting  Grid Ref: Northing  \\\n",
       "6100          4CV0902             430343              431175   \n",
       "6101          4CV1387             427748              436446   \n",
       "6102          4CV1544             420323              434279   \n",
       "6103          51B1932             431947              435868   \n",
       "6104          56R0735             421554              435973   \n",
       "\n",
       "      Number of Vehicles        Accident Date Time (24hr) Time(3hrs)  \\\n",
       "6100                   2           12/31/2017    15:15:00   15:00:00   \n",
       "6101                   3           12/31/2017    19:35:00   18:00:00   \n",
       "6102                   2           12/31/2017    21:11:00   21:00:00   \n",
       "6103                   2  2017-11-01 00:00:00    23:20:00   21:00:00   \n",
       "6104                   2            6/27/2017    14:00:00   12:00:00   \n",
       "\n",
       "     1st Road Class 1st Road Class & No Road Surface  \\\n",
       "6100              U                 NaN         Snow   \n",
       "6101              U                 NaN     Wet/Damp   \n",
       "6102          B6381                 NaN     Wet/Damp   \n",
       "6103              U                 NaN     Wet/Damp   \n",
       "6104              U                 NaN     Wet/Damp   \n",
       "\n",
       "                          Lighting Conditions          Weather Conditions  \\\n",
       "6100          Daylight: street lights present  Snowing without high winds   \n",
       "6101  Darkness: street lights present and lit  Raining without high winds   \n",
       "6102  Darkness: street lights present and lit  Raining without high winds   \n",
       "6103  Darkness: street lights present and lit     Fine without high winds   \n",
       "6104          Daylight: street lights present  Raining without high winds   \n",
       "\n",
       "     Local Authority  Vehicle Number                     Type of Vehicle  \\\n",
       "6100             NaN             NaN                                 Car   \n",
       "6101             NaN             NaN  Motorcycle over 12 and up to 500cc   \n",
       "6102             NaN             NaN                                 Car   \n",
       "6103             NaN             NaN  Motorcycle over 500cc0cc and under   \n",
       "6104             NaN             NaN                                 Car   \n",
       "\n",
       "      Casualty Class  Casualty Severity Casualty Descr Sex of Casualty  \\\n",
       "6100               2                  3         Slight            Male   \n",
       "6101               1                  3         Slight            Male   \n",
       "6102               1                  3         Slight            Male   \n",
       "6103               1                  2        Serious            Male   \n",
       "6104               1                  3         Slight            Male   \n",
       "\n",
       "      Age of Casualty  \n",
       "6100               21  \n",
       "6101               23  \n",
       "6102               20  \n",
       "6103               34  \n",
       "6104               27  "
      ]
     },
     "execution_count": 351,
     "metadata": {},
     "output_type": "execute_result"
    }
   ],
   "source": [
    "df1 = df\n",
    "df1.tail()"
   ]
  },
  {
   "cell_type": "code",
   "execution_count": 352,
   "metadata": {},
   "outputs": [],
   "source": [
    "#As Vehical Number column is most import among the other with missing values, we apply random values for missing lines, because missing values are only about 30% of total lines\n",
    "def fill_missing(column_val):\n",
    "    if np.isnan(column_val) == True: \n",
    "        column_val = np.random.randint(1,3)\n",
    "    else:\n",
    "         column_val = column_val\n",
    "    return column_val"
   ]
  },
  {
   "cell_type": "code",
   "execution_count": 353,
   "metadata": {},
   "outputs": [
    {
     "data": {
      "text/html": [
       "<div>\n",
       "<style scoped>\n",
       "    .dataframe tbody tr th:only-of-type {\n",
       "        vertical-align: middle;\n",
       "    }\n",
       "\n",
       "    .dataframe tbody tr th {\n",
       "        vertical-align: top;\n",
       "    }\n",
       "\n",
       "    .dataframe thead th {\n",
       "        text-align: right;\n",
       "    }\n",
       "</style>\n",
       "<table border=\"1\" class=\"dataframe\">\n",
       "  <thead>\n",
       "    <tr style=\"text-align: right;\">\n",
       "      <th></th>\n",
       "      <th>Reference Number</th>\n",
       "      <th>Grid Ref: Easting</th>\n",
       "      <th>Grid Ref: Northing</th>\n",
       "      <th>Number of Vehicles</th>\n",
       "      <th>Accident Date</th>\n",
       "      <th>Time (24hr)</th>\n",
       "      <th>Time(3hrs)</th>\n",
       "      <th>1st Road Class</th>\n",
       "      <th>1st Road Class &amp; No</th>\n",
       "      <th>Road Surface</th>\n",
       "      <th>Lighting Conditions</th>\n",
       "      <th>Weather Conditions</th>\n",
       "      <th>Local Authority</th>\n",
       "      <th>Vehicle Number</th>\n",
       "      <th>Type of Vehicle</th>\n",
       "      <th>Casualty Class</th>\n",
       "      <th>Casualty Severity</th>\n",
       "      <th>Casualty Descr</th>\n",
       "      <th>Sex of Casualty</th>\n",
       "      <th>Age of Casualty</th>\n",
       "    </tr>\n",
       "  </thead>\n",
       "  <tbody>\n",
       "    <tr>\n",
       "      <th>6100</th>\n",
       "      <td>4CV0902</td>\n",
       "      <td>430343</td>\n",
       "      <td>431175</td>\n",
       "      <td>2</td>\n",
       "      <td>12/31/2017</td>\n",
       "      <td>15:15:00</td>\n",
       "      <td>15:00:00</td>\n",
       "      <td>U</td>\n",
       "      <td>NaN</td>\n",
       "      <td>Snow</td>\n",
       "      <td>Daylight: street lights present</td>\n",
       "      <td>Snowing without high winds</td>\n",
       "      <td>NaN</td>\n",
       "      <td>1.0</td>\n",
       "      <td>Car</td>\n",
       "      <td>2</td>\n",
       "      <td>3</td>\n",
       "      <td>Slight</td>\n",
       "      <td>Male</td>\n",
       "      <td>21</td>\n",
       "    </tr>\n",
       "    <tr>\n",
       "      <th>6101</th>\n",
       "      <td>4CV1387</td>\n",
       "      <td>427748</td>\n",
       "      <td>436446</td>\n",
       "      <td>3</td>\n",
       "      <td>12/31/2017</td>\n",
       "      <td>19:35:00</td>\n",
       "      <td>18:00:00</td>\n",
       "      <td>U</td>\n",
       "      <td>NaN</td>\n",
       "      <td>Wet/Damp</td>\n",
       "      <td>Darkness: street lights present and lit</td>\n",
       "      <td>Raining without high winds</td>\n",
       "      <td>NaN</td>\n",
       "      <td>1.0</td>\n",
       "      <td>Motorcycle over 12 and up to 500cc</td>\n",
       "      <td>1</td>\n",
       "      <td>3</td>\n",
       "      <td>Slight</td>\n",
       "      <td>Male</td>\n",
       "      <td>23</td>\n",
       "    </tr>\n",
       "    <tr>\n",
       "      <th>6102</th>\n",
       "      <td>4CV1544</td>\n",
       "      <td>420323</td>\n",
       "      <td>434279</td>\n",
       "      <td>2</td>\n",
       "      <td>12/31/2017</td>\n",
       "      <td>21:11:00</td>\n",
       "      <td>21:00:00</td>\n",
       "      <td>B6381</td>\n",
       "      <td>NaN</td>\n",
       "      <td>Wet/Damp</td>\n",
       "      <td>Darkness: street lights present and lit</td>\n",
       "      <td>Raining without high winds</td>\n",
       "      <td>NaN</td>\n",
       "      <td>2.0</td>\n",
       "      <td>Car</td>\n",
       "      <td>1</td>\n",
       "      <td>3</td>\n",
       "      <td>Slight</td>\n",
       "      <td>Male</td>\n",
       "      <td>20</td>\n",
       "    </tr>\n",
       "    <tr>\n",
       "      <th>6103</th>\n",
       "      <td>51B1932</td>\n",
       "      <td>431947</td>\n",
       "      <td>435868</td>\n",
       "      <td>2</td>\n",
       "      <td>2017-11-01 00:00:00</td>\n",
       "      <td>23:20:00</td>\n",
       "      <td>21:00:00</td>\n",
       "      <td>U</td>\n",
       "      <td>NaN</td>\n",
       "      <td>Wet/Damp</td>\n",
       "      <td>Darkness: street lights present and lit</td>\n",
       "      <td>Fine without high winds</td>\n",
       "      <td>NaN</td>\n",
       "      <td>1.0</td>\n",
       "      <td>Motorcycle over 500cc0cc and under</td>\n",
       "      <td>1</td>\n",
       "      <td>2</td>\n",
       "      <td>Serious</td>\n",
       "      <td>Male</td>\n",
       "      <td>34</td>\n",
       "    </tr>\n",
       "    <tr>\n",
       "      <th>6104</th>\n",
       "      <td>56R0735</td>\n",
       "      <td>421554</td>\n",
       "      <td>435973</td>\n",
       "      <td>2</td>\n",
       "      <td>6/27/2017</td>\n",
       "      <td>14:00:00</td>\n",
       "      <td>12:00:00</td>\n",
       "      <td>U</td>\n",
       "      <td>NaN</td>\n",
       "      <td>Wet/Damp</td>\n",
       "      <td>Daylight: street lights present</td>\n",
       "      <td>Raining without high winds</td>\n",
       "      <td>NaN</td>\n",
       "      <td>2.0</td>\n",
       "      <td>Car</td>\n",
       "      <td>1</td>\n",
       "      <td>3</td>\n",
       "      <td>Slight</td>\n",
       "      <td>Male</td>\n",
       "      <td>27</td>\n",
       "    </tr>\n",
       "  </tbody>\n",
       "</table>\n",
       "</div>"
      ],
      "text/plain": [
       "     Reference Number  Grid Ref: Easting  Grid Ref: Northing  \\\n",
       "6100          4CV0902             430343              431175   \n",
       "6101          4CV1387             427748              436446   \n",
       "6102          4CV1544             420323              434279   \n",
       "6103          51B1932             431947              435868   \n",
       "6104          56R0735             421554              435973   \n",
       "\n",
       "      Number of Vehicles        Accident Date Time (24hr) Time(3hrs)  \\\n",
       "6100                   2           12/31/2017    15:15:00   15:00:00   \n",
       "6101                   3           12/31/2017    19:35:00   18:00:00   \n",
       "6102                   2           12/31/2017    21:11:00   21:00:00   \n",
       "6103                   2  2017-11-01 00:00:00    23:20:00   21:00:00   \n",
       "6104                   2            6/27/2017    14:00:00   12:00:00   \n",
       "\n",
       "     1st Road Class 1st Road Class & No Road Surface  \\\n",
       "6100              U                 NaN         Snow   \n",
       "6101              U                 NaN     Wet/Damp   \n",
       "6102          B6381                 NaN     Wet/Damp   \n",
       "6103              U                 NaN     Wet/Damp   \n",
       "6104              U                 NaN     Wet/Damp   \n",
       "\n",
       "                          Lighting Conditions          Weather Conditions  \\\n",
       "6100          Daylight: street lights present  Snowing without high winds   \n",
       "6101  Darkness: street lights present and lit  Raining without high winds   \n",
       "6102  Darkness: street lights present and lit  Raining without high winds   \n",
       "6103  Darkness: street lights present and lit     Fine without high winds   \n",
       "6104          Daylight: street lights present  Raining without high winds   \n",
       "\n",
       "     Local Authority  Vehicle Number                     Type of Vehicle  \\\n",
       "6100             NaN             1.0                                 Car   \n",
       "6101             NaN             1.0  Motorcycle over 12 and up to 500cc   \n",
       "6102             NaN             2.0                                 Car   \n",
       "6103             NaN             1.0  Motorcycle over 500cc0cc and under   \n",
       "6104             NaN             2.0                                 Car   \n",
       "\n",
       "      Casualty Class  Casualty Severity Casualty Descr Sex of Casualty  \\\n",
       "6100               2                  3         Slight            Male   \n",
       "6101               1                  3         Slight            Male   \n",
       "6102               1                  3         Slight            Male   \n",
       "6103               1                  2        Serious            Male   \n",
       "6104               1                  3         Slight            Male   \n",
       "\n",
       "      Age of Casualty  \n",
       "6100               21  \n",
       "6101               23  \n",
       "6102               20  \n",
       "6103               34  \n",
       "6104               27  "
      ]
     },
     "execution_count": 353,
     "metadata": {},
     "output_type": "execute_result"
    }
   ],
   "source": [
    "df1['Vehicle Number'] = df1['Vehicle Number'].apply(fill_missing)\n",
    "df1.tail()"
   ]
  },
  {
   "cell_type": "code",
   "execution_count": 354,
   "metadata": {},
   "outputs": [
    {
     "data": {
      "text/html": [
       "<div>\n",
       "<style scoped>\n",
       "    .dataframe tbody tr th:only-of-type {\n",
       "        vertical-align: middle;\n",
       "    }\n",
       "\n",
       "    .dataframe tbody tr th {\n",
       "        vertical-align: top;\n",
       "    }\n",
       "\n",
       "    .dataframe thead th {\n",
       "        text-align: right;\n",
       "    }\n",
       "</style>\n",
       "<table border=\"1\" class=\"dataframe\">\n",
       "  <thead>\n",
       "    <tr style=\"text-align: right;\">\n",
       "      <th></th>\n",
       "      <th>Reference Number</th>\n",
       "      <th>Grid Ref: Easting</th>\n",
       "      <th>Grid Ref: Northing</th>\n",
       "      <th>Number of Vehicles</th>\n",
       "      <th>Accident Date</th>\n",
       "      <th>Time (24hr)</th>\n",
       "      <th>Time(3hrs)</th>\n",
       "      <th>1st Road Class</th>\n",
       "      <th>1st Road Class &amp; No</th>\n",
       "      <th>Road Surface</th>\n",
       "      <th>Lighting Conditions</th>\n",
       "      <th>Weather Conditions</th>\n",
       "      <th>Local Authority</th>\n",
       "      <th>Vehicle Number</th>\n",
       "      <th>Type of Vehicle</th>\n",
       "      <th>Casualty Class</th>\n",
       "      <th>Casualty Severity</th>\n",
       "      <th>Casualty Descr</th>\n",
       "      <th>Sex of Casualty</th>\n",
       "      <th>Age of Casualty</th>\n",
       "    </tr>\n",
       "  </thead>\n",
       "  <tbody>\n",
       "    <tr>\n",
       "      <th>0</th>\n",
       "      <td>58F1730</td>\n",
       "      <td>436147</td>\n",
       "      <td>434957</td>\n",
       "      <td>2</td>\n",
       "      <td>2019-08-15 00:00:00</td>\n",
       "      <td>18:12:00</td>\n",
       "      <td>18:00:00</td>\n",
       "      <td>3</td>\n",
       "      <td>A6120</td>\n",
       "      <td>Dry</td>\n",
       "      <td>Daylight: street lights present</td>\n",
       "      <td>Fine without high winds</td>\n",
       "      <td>E08000035</td>\n",
       "      <td>2</td>\n",
       "      <td>Pedal cycle</td>\n",
       "      <td>2</td>\n",
       "      <td>3</td>\n",
       "      <td>Slight</td>\n",
       "      <td>Female</td>\n",
       "      <td>6</td>\n",
       "    </tr>\n",
       "    <tr>\n",
       "      <th>1</th>\n",
       "      <td>58F1730</td>\n",
       "      <td>436147</td>\n",
       "      <td>434957</td>\n",
       "      <td>2</td>\n",
       "      <td>2019-08-15 00:00:00</td>\n",
       "      <td>18:12:00</td>\n",
       "      <td>18:00:00</td>\n",
       "      <td>3</td>\n",
       "      <td>A6120</td>\n",
       "      <td>Dry</td>\n",
       "      <td>Daylight: street lights present</td>\n",
       "      <td>Fine without high winds</td>\n",
       "      <td>E08000035</td>\n",
       "      <td>2</td>\n",
       "      <td>Pedal cycle</td>\n",
       "      <td>2</td>\n",
       "      <td>3</td>\n",
       "      <td>Slight</td>\n",
       "      <td>Male</td>\n",
       "      <td>9</td>\n",
       "    </tr>\n",
       "    <tr>\n",
       "      <th>2</th>\n",
       "      <td>58F1730</td>\n",
       "      <td>436147</td>\n",
       "      <td>434957</td>\n",
       "      <td>2</td>\n",
       "      <td>2019-08-15 00:00:00</td>\n",
       "      <td>18:12:00</td>\n",
       "      <td>18:00:00</td>\n",
       "      <td>3</td>\n",
       "      <td>A6120</td>\n",
       "      <td>Dry</td>\n",
       "      <td>Daylight: street lights present</td>\n",
       "      <td>Fine without high winds</td>\n",
       "      <td>E08000035</td>\n",
       "      <td>2</td>\n",
       "      <td>Pedal cycle</td>\n",
       "      <td>2</td>\n",
       "      <td>3</td>\n",
       "      <td>Slight</td>\n",
       "      <td>Female</td>\n",
       "      <td>39</td>\n",
       "    </tr>\n",
       "    <tr>\n",
       "      <th>3</th>\n",
       "      <td>58F1730</td>\n",
       "      <td>436147</td>\n",
       "      <td>434957</td>\n",
       "      <td>2</td>\n",
       "      <td>2019-08-15 00:00:00</td>\n",
       "      <td>18:12:00</td>\n",
       "      <td>18:00:00</td>\n",
       "      <td>3</td>\n",
       "      <td>A6120</td>\n",
       "      <td>Dry</td>\n",
       "      <td>Daylight: street lights present</td>\n",
       "      <td>Fine without high winds</td>\n",
       "      <td>E08000035</td>\n",
       "      <td>2</td>\n",
       "      <td>Pedal cycle</td>\n",
       "      <td>2</td>\n",
       "      <td>3</td>\n",
       "      <td>Slight</td>\n",
       "      <td>Male</td>\n",
       "      <td>5</td>\n",
       "    </tr>\n",
       "    <tr>\n",
       "      <th>4</th>\n",
       "      <td>58F1730</td>\n",
       "      <td>436147</td>\n",
       "      <td>434957</td>\n",
       "      <td>2</td>\n",
       "      <td>2019-08-15 00:00:00</td>\n",
       "      <td>18:12:00</td>\n",
       "      <td>18:00:00</td>\n",
       "      <td>3</td>\n",
       "      <td>A6120</td>\n",
       "      <td>Dry</td>\n",
       "      <td>Daylight: street lights present</td>\n",
       "      <td>Fine without high winds</td>\n",
       "      <td>E08000035</td>\n",
       "      <td>2</td>\n",
       "      <td>Pedal cycle</td>\n",
       "      <td>2</td>\n",
       "      <td>3</td>\n",
       "      <td>Slight</td>\n",
       "      <td>Female</td>\n",
       "      <td>8</td>\n",
       "    </tr>\n",
       "  </tbody>\n",
       "</table>\n",
       "</div>"
      ],
      "text/plain": [
       "  Reference Number  Grid Ref: Easting  Grid Ref: Northing  Number of Vehicles  \\\n",
       "0          58F1730             436147              434957                   2   \n",
       "1          58F1730             436147              434957                   2   \n",
       "2          58F1730             436147              434957                   2   \n",
       "3          58F1730             436147              434957                   2   \n",
       "4          58F1730             436147              434957                   2   \n",
       "\n",
       "         Accident Date Time (24hr) Time(3hrs) 1st Road Class  \\\n",
       "0  2019-08-15 00:00:00    18:12:00   18:00:00              3   \n",
       "1  2019-08-15 00:00:00    18:12:00   18:00:00              3   \n",
       "2  2019-08-15 00:00:00    18:12:00   18:00:00              3   \n",
       "3  2019-08-15 00:00:00    18:12:00   18:00:00              3   \n",
       "4  2019-08-15 00:00:00    18:12:00   18:00:00              3   \n",
       "\n",
       "  1st Road Class & No Road Surface              Lighting Conditions  \\\n",
       "0               A6120          Dry  Daylight: street lights present   \n",
       "1               A6120          Dry  Daylight: street lights present   \n",
       "2               A6120          Dry  Daylight: street lights present   \n",
       "3               A6120          Dry  Daylight: street lights present   \n",
       "4               A6120          Dry  Daylight: street lights present   \n",
       "\n",
       "        Weather Conditions Local Authority  Vehicle Number Type of Vehicle  \\\n",
       "0  Fine without high winds       E08000035               2     Pedal cycle   \n",
       "1  Fine without high winds       E08000035               2     Pedal cycle   \n",
       "2  Fine without high winds       E08000035               2     Pedal cycle   \n",
       "3  Fine without high winds       E08000035               2     Pedal cycle   \n",
       "4  Fine without high winds       E08000035               2     Pedal cycle   \n",
       "\n",
       "   Casualty Class  Casualty Severity Casualty Descr Sex of Casualty  \\\n",
       "0               2                  3         Slight          Female   \n",
       "1               2                  3         Slight            Male   \n",
       "2               2                  3         Slight          Female   \n",
       "3               2                  3         Slight            Male   \n",
       "4               2                  3         Slight          Female   \n",
       "\n",
       "   Age of Casualty  \n",
       "0                6  \n",
       "1                9  \n",
       "2               39  \n",
       "3                5  \n",
       "4                8  "
      ]
     },
     "execution_count": 354,
     "metadata": {},
     "output_type": "execute_result"
    }
   ],
   "source": [
    "#Changing float number to integer\n",
    "df1[['Vehicle Number']] = df1[['Vehicle Number']].astype('int')\n",
    "df1.head()"
   ]
  },
  {
   "cell_type": "code",
   "execution_count": 355,
   "metadata": {},
   "outputs": [
    {
     "data": {
      "text/html": [
       "<div>\n",
       "<style scoped>\n",
       "    .dataframe tbody tr th:only-of-type {\n",
       "        vertical-align: middle;\n",
       "    }\n",
       "\n",
       "    .dataframe tbody tr th {\n",
       "        vertical-align: top;\n",
       "    }\n",
       "\n",
       "    .dataframe thead th {\n",
       "        text-align: right;\n",
       "    }\n",
       "</style>\n",
       "<table border=\"1\" class=\"dataframe\">\n",
       "  <thead>\n",
       "    <tr style=\"text-align: right;\">\n",
       "      <th></th>\n",
       "      <th>Number of Vehicles</th>\n",
       "      <th>Time(3hrs)</th>\n",
       "      <th>1st Road Class</th>\n",
       "      <th>Road Surface</th>\n",
       "      <th>Lighting Conditions</th>\n",
       "      <th>Weather Conditions</th>\n",
       "      <th>Vehicle Number</th>\n",
       "      <th>Type of Vehicle</th>\n",
       "      <th>Casualty Class</th>\n",
       "      <th>Casualty Severity</th>\n",
       "      <th>Casualty Descr</th>\n",
       "      <th>Sex of Casualty</th>\n",
       "      <th>Age of Casualty</th>\n",
       "    </tr>\n",
       "  </thead>\n",
       "  <tbody>\n",
       "    <tr>\n",
       "      <th>0</th>\n",
       "      <td>2</td>\n",
       "      <td>18:00:00</td>\n",
       "      <td>3</td>\n",
       "      <td>Dry</td>\n",
       "      <td>Daylight: street lights present</td>\n",
       "      <td>Fine without high winds</td>\n",
       "      <td>2</td>\n",
       "      <td>Pedal cycle</td>\n",
       "      <td>2</td>\n",
       "      <td>3</td>\n",
       "      <td>Slight</td>\n",
       "      <td>Female</td>\n",
       "      <td>6</td>\n",
       "    </tr>\n",
       "    <tr>\n",
       "      <th>1</th>\n",
       "      <td>2</td>\n",
       "      <td>18:00:00</td>\n",
       "      <td>3</td>\n",
       "      <td>Dry</td>\n",
       "      <td>Daylight: street lights present</td>\n",
       "      <td>Fine without high winds</td>\n",
       "      <td>2</td>\n",
       "      <td>Pedal cycle</td>\n",
       "      <td>2</td>\n",
       "      <td>3</td>\n",
       "      <td>Slight</td>\n",
       "      <td>Male</td>\n",
       "      <td>9</td>\n",
       "    </tr>\n",
       "    <tr>\n",
       "      <th>2</th>\n",
       "      <td>2</td>\n",
       "      <td>18:00:00</td>\n",
       "      <td>3</td>\n",
       "      <td>Dry</td>\n",
       "      <td>Daylight: street lights present</td>\n",
       "      <td>Fine without high winds</td>\n",
       "      <td>2</td>\n",
       "      <td>Pedal cycle</td>\n",
       "      <td>2</td>\n",
       "      <td>3</td>\n",
       "      <td>Slight</td>\n",
       "      <td>Female</td>\n",
       "      <td>39</td>\n",
       "    </tr>\n",
       "    <tr>\n",
       "      <th>3</th>\n",
       "      <td>2</td>\n",
       "      <td>18:00:00</td>\n",
       "      <td>3</td>\n",
       "      <td>Dry</td>\n",
       "      <td>Daylight: street lights present</td>\n",
       "      <td>Fine without high winds</td>\n",
       "      <td>2</td>\n",
       "      <td>Pedal cycle</td>\n",
       "      <td>2</td>\n",
       "      <td>3</td>\n",
       "      <td>Slight</td>\n",
       "      <td>Male</td>\n",
       "      <td>5</td>\n",
       "    </tr>\n",
       "    <tr>\n",
       "      <th>4</th>\n",
       "      <td>2</td>\n",
       "      <td>18:00:00</td>\n",
       "      <td>3</td>\n",
       "      <td>Dry</td>\n",
       "      <td>Daylight: street lights present</td>\n",
       "      <td>Fine without high winds</td>\n",
       "      <td>2</td>\n",
       "      <td>Pedal cycle</td>\n",
       "      <td>2</td>\n",
       "      <td>3</td>\n",
       "      <td>Slight</td>\n",
       "      <td>Female</td>\n",
       "      <td>8</td>\n",
       "    </tr>\n",
       "  </tbody>\n",
       "</table>\n",
       "</div>"
      ],
      "text/plain": [
       "   Number of Vehicles Time(3hrs) 1st Road Class Road Surface  \\\n",
       "0                   2   18:00:00              3          Dry   \n",
       "1                   2   18:00:00              3          Dry   \n",
       "2                   2   18:00:00              3          Dry   \n",
       "3                   2   18:00:00              3          Dry   \n",
       "4                   2   18:00:00              3          Dry   \n",
       "\n",
       "               Lighting Conditions       Weather Conditions  Vehicle Number  \\\n",
       "0  Daylight: street lights present  Fine without high winds               2   \n",
       "1  Daylight: street lights present  Fine without high winds               2   \n",
       "2  Daylight: street lights present  Fine without high winds               2   \n",
       "3  Daylight: street lights present  Fine without high winds               2   \n",
       "4  Daylight: street lights present  Fine without high winds               2   \n",
       "\n",
       "  Type of Vehicle  Casualty Class  Casualty Severity Casualty Descr  \\\n",
       "0     Pedal cycle               2                  3         Slight   \n",
       "1     Pedal cycle               2                  3         Slight   \n",
       "2     Pedal cycle               2                  3         Slight   \n",
       "3     Pedal cycle               2                  3         Slight   \n",
       "4     Pedal cycle               2                  3         Slight   \n",
       "\n",
       "  Sex of Casualty  Age of Casualty  \n",
       "0          Female                6  \n",
       "1            Male                9  \n",
       "2          Female               39  \n",
       "3            Male                5  \n",
       "4          Female                8  "
      ]
     },
     "execution_count": 355,
     "metadata": {},
     "output_type": "execute_result"
    }
   ],
   "source": [
    "# Dropping following columns as they dont't add value for our research\n",
    "df1.drop([\"Reference Number\",\"Local Authority\", \"1st Road Class & No\",\"Grid Ref: Easting\",\"Grid Ref: Northing\", \"Accident Date\",\"Time (24hr)\"], axis=1, inplace=True)\n",
    "df1.head()"
   ]
  },
  {
   "cell_type": "code",
   "execution_count": 356,
   "metadata": {},
   "outputs": [
    {
     "data": {
      "text/plain": [
       "3    5088\n",
       "2     954\n",
       "1      63\n",
       "Name: Casualty Severity, dtype: int64"
      ]
     },
     "execution_count": 356,
     "metadata": {},
     "output_type": "execute_result"
    }
   ],
   "source": [
    "#The number of rows in class 3 is almost 5 times bigger than the number of rows in class 2. It is possible to solve the issue by down sampling the class 3. Will be done in next steps\n",
    "df1['Casualty Severity'].value_counts()"
   ]
  },
  {
   "cell_type": "code",
   "execution_count": 357,
   "metadata": {},
   "outputs": [
    {
     "data": {
      "text/html": [
       "<div>\n",
       "<style scoped>\n",
       "    .dataframe tbody tr th:only-of-type {\n",
       "        vertical-align: middle;\n",
       "    }\n",
       "\n",
       "    .dataframe tbody tr th {\n",
       "        vertical-align: top;\n",
       "    }\n",
       "\n",
       "    .dataframe thead th {\n",
       "        text-align: right;\n",
       "    }\n",
       "</style>\n",
       "<table border=\"1\" class=\"dataframe\">\n",
       "  <thead>\n",
       "    <tr style=\"text-align: right;\">\n",
       "      <th></th>\n",
       "      <th>Number of Vehicles</th>\n",
       "      <th>Time(3hrs)</th>\n",
       "      <th>1stRoadClass</th>\n",
       "      <th>Road_Surface</th>\n",
       "      <th>Lighting_Conditions</th>\n",
       "      <th>Weather_Conditions</th>\n",
       "      <th>Vehicle_Number</th>\n",
       "      <th>TypeofVehicle</th>\n",
       "      <th>Casualty_Class</th>\n",
       "      <th>Casualty_Severity</th>\n",
       "      <th>Casualty_Descr</th>\n",
       "      <th>SexofCasualty</th>\n",
       "      <th>AgeofCasualty</th>\n",
       "    </tr>\n",
       "  </thead>\n",
       "  <tbody>\n",
       "    <tr>\n",
       "      <th>0</th>\n",
       "      <td>2</td>\n",
       "      <td>18:00:00</td>\n",
       "      <td>3</td>\n",
       "      <td>Dry</td>\n",
       "      <td>Daylight: street lights present</td>\n",
       "      <td>Fine without high winds</td>\n",
       "      <td>2</td>\n",
       "      <td>Pedal cycle</td>\n",
       "      <td>2</td>\n",
       "      <td>3</td>\n",
       "      <td>Slight</td>\n",
       "      <td>Female</td>\n",
       "      <td>6</td>\n",
       "    </tr>\n",
       "    <tr>\n",
       "      <th>1</th>\n",
       "      <td>2</td>\n",
       "      <td>18:00:00</td>\n",
       "      <td>3</td>\n",
       "      <td>Dry</td>\n",
       "      <td>Daylight: street lights present</td>\n",
       "      <td>Fine without high winds</td>\n",
       "      <td>2</td>\n",
       "      <td>Pedal cycle</td>\n",
       "      <td>2</td>\n",
       "      <td>3</td>\n",
       "      <td>Slight</td>\n",
       "      <td>Male</td>\n",
       "      <td>9</td>\n",
       "    </tr>\n",
       "    <tr>\n",
       "      <th>2</th>\n",
       "      <td>2</td>\n",
       "      <td>18:00:00</td>\n",
       "      <td>3</td>\n",
       "      <td>Dry</td>\n",
       "      <td>Daylight: street lights present</td>\n",
       "      <td>Fine without high winds</td>\n",
       "      <td>2</td>\n",
       "      <td>Pedal cycle</td>\n",
       "      <td>2</td>\n",
       "      <td>3</td>\n",
       "      <td>Slight</td>\n",
       "      <td>Female</td>\n",
       "      <td>39</td>\n",
       "    </tr>\n",
       "    <tr>\n",
       "      <th>3</th>\n",
       "      <td>2</td>\n",
       "      <td>18:00:00</td>\n",
       "      <td>3</td>\n",
       "      <td>Dry</td>\n",
       "      <td>Daylight: street lights present</td>\n",
       "      <td>Fine without high winds</td>\n",
       "      <td>2</td>\n",
       "      <td>Pedal cycle</td>\n",
       "      <td>2</td>\n",
       "      <td>3</td>\n",
       "      <td>Slight</td>\n",
       "      <td>Male</td>\n",
       "      <td>5</td>\n",
       "    </tr>\n",
       "    <tr>\n",
       "      <th>4</th>\n",
       "      <td>2</td>\n",
       "      <td>18:00:00</td>\n",
       "      <td>3</td>\n",
       "      <td>Dry</td>\n",
       "      <td>Daylight: street lights present</td>\n",
       "      <td>Fine without high winds</td>\n",
       "      <td>2</td>\n",
       "      <td>Pedal cycle</td>\n",
       "      <td>2</td>\n",
       "      <td>3</td>\n",
       "      <td>Slight</td>\n",
       "      <td>Female</td>\n",
       "      <td>8</td>\n",
       "    </tr>\n",
       "  </tbody>\n",
       "</table>\n",
       "</div>"
      ],
      "text/plain": [
       "   Number of Vehicles Time(3hrs) 1stRoadClass Road_Surface  \\\n",
       "0                   2   18:00:00            3          Dry   \n",
       "1                   2   18:00:00            3          Dry   \n",
       "2                   2   18:00:00            3          Dry   \n",
       "3                   2   18:00:00            3          Dry   \n",
       "4                   2   18:00:00            3          Dry   \n",
       "\n",
       "               Lighting_Conditions       Weather_Conditions  Vehicle_Number  \\\n",
       "0  Daylight: street lights present  Fine without high winds               2   \n",
       "1  Daylight: street lights present  Fine without high winds               2   \n",
       "2  Daylight: street lights present  Fine without high winds               2   \n",
       "3  Daylight: street lights present  Fine without high winds               2   \n",
       "4  Daylight: street lights present  Fine without high winds               2   \n",
       "\n",
       "  TypeofVehicle  Casualty_Class  Casualty_Severity Casualty_Descr  \\\n",
       "0   Pedal cycle               2                  3         Slight   \n",
       "1   Pedal cycle               2                  3         Slight   \n",
       "2   Pedal cycle               2                  3         Slight   \n",
       "3   Pedal cycle               2                  3         Slight   \n",
       "4   Pedal cycle               2                  3         Slight   \n",
       "\n",
       "  SexofCasualty  AgeofCasualty  \n",
       "0        Female              6  \n",
       "1          Male              9  \n",
       "2        Female             39  \n",
       "3          Male              5  \n",
       "4        Female              8  "
      ]
     },
     "execution_count": 357,
     "metadata": {},
     "output_type": "execute_result"
    }
   ],
   "source": [
    "#Renaming column to have one word describtion, whish is needed for further analysis\n",
    "df1 = df.rename(columns = {'Casualty Severity':'Casualty_Severity','Time (24hr)':'Time(24hr)', '1st Road Class':'1stRoadClass','Road Surface':'Road_Surface','Lighting Conditions':'Lighting_Conditions','Weather Conditions':'Weather_Conditions','Vehicle Number':'Vehicle_Number','Type of Vehicle':'TypeofVehicle','Casualty Class':'Casualty_Class','Casualty Descr':'Casualty_Descr','Sex of Casualty':'SexofCasualty','Age of Casualty':'AgeofCasualty'})\n",
    "df1.head()"
   ]
  },
  {
   "cell_type": "code",
   "execution_count": 358,
   "metadata": {},
   "outputs": [
    {
     "data": {
      "text/plain": [
       "3    1000\n",
       "2     954\n",
       "1      63\n",
       "Name: Casualty_Severity, dtype: int64"
      ]
     },
     "execution_count": 358,
     "metadata": {},
     "output_type": "execute_result"
    }
   ],
   "source": [
    "#Downsampling the data\n",
    "\n",
    "from sklearn.utils import resample\n",
    "\n",
    "df_maj = df1[df1.Casualty_Severity==3]\n",
    "df_min = df1[df1.Casualty_Severity!=3]\n",
    "df_dsample=resample(df_maj,replace=False,n_samples=1000,random_state=123)\n",
    "balanced_df = pd.concat([df_dsample,df_min])\n",
    "balanced_df['Casualty_Severity'].value_counts()"
   ]
  },
  {
   "cell_type": "code",
   "execution_count": 359,
   "metadata": {},
   "outputs": [],
   "source": [
    "import matplotlib.pyplot as plt\n",
    "%matplotlib inline"
   ]
  },
  {
   "cell_type": "code",
   "execution_count": 360,
   "metadata": {},
   "outputs": [
    {
     "data": {
      "image/png": "[encoded data removed]",
      "text/plain": [
       "<Figure size 432x288 with 1 Axes>"
      ]
     },
     "metadata": {
      "needs_background": "light"
     },
     "output_type": "display_data"
    }
   ],
   "source": [
    "#Checking dependencies of the fatal accidents using deifferent independent variables\n",
    "df1[df1.Casualty_Severity==1].Road_Surface.value_counts().plot(kind='bar')\n",
    "plt.title('Fatal accidents based on road')\n",
    "plt.ylabel('Number of Accidents')\n",
    "plt.xlabel('Road type')\n",
    "plt.show()"
   ]
  },
  {
   "cell_type": "code",
   "execution_count": 361,
   "metadata": {},
   "outputs": [
    {
     "data": {
      "image/png": "[encoded data removed]",
      "text/plain": [
       "<Figure size 432x288 with 1 Axes>"
      ]
     },
     "metadata": {
      "needs_background": "light"
     },
     "output_type": "display_data"
    }
   ],
   "source": [
    "df1[df1.Casualty_Severity==(1 and 2 and 3)].Weather_Conditions.value_counts().plot(kind='bar')\n",
    "plt.title('Total accidents based on road')\n",
    "plt.ylabel('Number of Accidents')\n",
    "plt.xlabel('weather')\n",
    "plt.show()"
   ]
  },
  {
   "cell_type": "code",
   "execution_count": 362,
   "metadata": {},
   "outputs": [
    {
     "data": {
      "image/png": "[encoded data removed]",
      "text/plain": [
       "<Figure size 432x288 with 1 Axes>"
      ]
     },
     "metadata": {
      "needs_background": "light"
     },
     "output_type": "display_data"
    }
   ],
   "source": [
    "df1[df1.Casualty_Severity==1].TypeofVehicle.value_counts().plot(kind='bar')\n",
    "plt.title('Fatal accidents based on road')\n",
    "plt.ylabel('Number of Accidents')\n",
    "plt.xlabel('Vehicle')\n",
    "plt.show()"
   ]
  },
  {
   "cell_type": "code",
   "execution_count": 363,
   "metadata": {},
   "outputs": [
    {
     "data": {
      "text/plain": [
       "36.16986076986077"
      ]
     },
     "execution_count": 363,
     "metadata": {},
     "output_type": "execute_result"
    }
   ],
   "source": [
    "#Average people age of all casualties\n",
    "avg_AgeofCasualty = df1['AgeofCasualty'].mean()\n",
    "avg_AgeofCasualty"
   ]
  },
  {
   "cell_type": "code",
   "execution_count": 364,
   "metadata": {},
   "outputs": [
    {
     "data": {
      "image/png": "[encoded data removed]",
      "text/plain": [
       "<Figure size 432x288 with 1 Axes>"
      ]
     },
     "metadata": {
      "needs_background": "light"
     },
     "output_type": "display_data"
    }
   ],
   "source": [
    "\n",
    "df1[df1.Casualty_Severity==1].AgeofCasualty.value_counts().plot(kind='bar')\n",
    "plt.title('Fatal accidents based on road')\n",
    "plt.ylabel('Number of Accidents')\n",
    "plt.xlabel('Age')\n",
    "plt.show()"
   ]
  },
  {
   "cell_type": "code",
   "execution_count": 365,
   "metadata": {},
   "outputs": [
    {
     "data": {
      "image/png": "[encoded data removed]",
      "text/plain": [
       "<Figure size 432x288 with 1 Axes>"
      ]
     },
     "metadata": {
      "needs_background": "light"
     },
     "output_type": "display_data"
    }
   ],
   "source": [
    "df1[df1.Casualty_Severity==1].Lighting_Conditions.value_counts().plot(kind='bar')\n",
    "plt.title('Fatal accidents based on Day/Night')\n",
    "plt.ylabel('Number of Accidents')\n",
    "plt.xlabel('Vehicle')\n",
    "plt.show()"
   ]
  },
  {
   "cell_type": "code",
   "execution_count": 366,
   "metadata": {},
   "outputs": [
    {
     "data": {
      "text/plain": [
       "Number of Vehicles      int64\n",
       "Time(3hrs)             object\n",
       "1stRoadClass           object\n",
       "Road_Surface           object\n",
       "Lighting_Conditions    object\n",
       "Weather_Conditions     object\n",
       "Vehicle_Number          int32\n",
       "TypeofVehicle          object\n",
       "Casualty_Class          int64\n",
       "Casualty_Severity       int64\n",
       "Casualty_Descr         object\n",
       "SexofCasualty          object\n",
       "AgeofCasualty           int64\n",
       "dtype: object"
      ]
     },
     "execution_count": 366,
     "metadata": {},
     "output_type": "execute_result"
    }
   ],
   "source": [
    "df1.dtypes"
   ]
  },
  {
   "cell_type": "code",
   "execution_count": 367,
   "metadata": {},
   "outputs": [
    {
     "data": {
      "text/plain": [
       "Dry          4532\n",
       "Wet/Damp     1467\n",
       "Frost/Ice      74\n",
       "Snow           30\n",
       "Unknown         2\n",
       "Name: Road_Surface, dtype: int64"
      ]
     },
     "execution_count": 367,
     "metadata": {},
     "output_type": "execute_result"
    }
   ],
   "source": [
    "df1['Road_Surface'].value_counts()"
   ]
  },
  {
   "cell_type": "code",
   "execution_count": 368,
   "metadata": {},
   "outputs": [
    {
     "data": {
      "text/plain": [
       "Daylight: street lights present              4013\n",
       "Darkness: street lights present and lit      1429\n",
       "Darkness: street lighting unknown             502\n",
       "Darkness: no street lighting                   87\n",
       "Darkness: No street lighting                   46\n",
       "Darkness: street lights present but unlit      28\n",
       "Name: Lighting_Conditions, dtype: int64"
      ]
     },
     "execution_count": 368,
     "metadata": {},
     "output_type": "execute_result"
    }
   ],
   "source": [
    "df1['Lighting_Conditions'].value_counts()"
   ]
  },
  {
   "cell_type": "code",
   "execution_count": 369,
   "metadata": {},
   "outputs": [
    {
     "data": {
      "text/plain": [
       "Fine without high winds       5344\n",
       "Raining without high winds     564\n",
       "Raining with high winds         64\n",
       "Fine with high winds            53\n",
       "Other                           38\n",
       "Snowing without high winds      25\n",
       "Snowing with high winds          7\n",
       "Fog or mist – if hazard          5\n",
       "Fog or mist (if hazard)          3\n",
       "Unknown                          2\n",
       "Name: Weather_Conditions, dtype: int64"
      ]
     },
     "execution_count": 369,
     "metadata": {},
     "output_type": "execute_result"
    }
   ],
   "source": [
    "df1['Weather_Conditions'].value_counts()"
   ]
  },
  {
   "cell_type": "code",
   "execution_count": 370,
   "metadata": {},
   "outputs": [
    {
     "data": {
      "text/plain": [
       "Car                                   4009\n",
       "Pedal cycle                           1350\n",
       "Motorcycle over 500cc0cc and under     344\n",
       "Taxi/Private hire car                  202\n",
       "Motorcycle over 500cc                  129\n",
       "Motorcycle over 12 and up to 500cc      71\n",
       "Name: TypeofVehicle, dtype: int64"
      ]
     },
     "execution_count": 370,
     "metadata": {},
     "output_type": "execute_result"
    }
   ],
   "source": [
    "df1['TypeofVehicle'].value_counts()"
   ]
  },
  {
   "cell_type": "code",
   "execution_count": 371,
   "metadata": {},
   "outputs": [
    {
     "data": {
      "text/plain": [
       "Male      3575\n",
       "Female    2530\n",
       "Name: SexofCasualty, dtype: int64"
      ]
     },
     "execution_count": 371,
     "metadata": {},
     "output_type": "execute_result"
    }
   ],
   "source": [
    "df1['SexofCasualty'].value_counts()"
   ]
  },
  {
   "cell_type": "code",
   "execution_count": 372,
   "metadata": {},
   "outputs": [
    {
     "data": {
      "text/html": [
       "<div>\n",
       "<style scoped>\n",
       "    .dataframe tbody tr th:only-of-type {\n",
       "        vertical-align: middle;\n",
       "    }\n",
       "\n",
       "    .dataframe tbody tr th {\n",
       "        vertical-align: top;\n",
       "    }\n",
       "\n",
       "    .dataframe thead th {\n",
       "        text-align: right;\n",
       "    }\n",
       "</style>\n",
       "<table border=\"1\" class=\"dataframe\">\n",
       "  <thead>\n",
       "    <tr style=\"text-align: right;\">\n",
       "      <th></th>\n",
       "      <th>Number of Vehicles</th>\n",
       "      <th>Time(3hrs)</th>\n",
       "      <th>1stRoadClass</th>\n",
       "      <th>Road_Surface</th>\n",
       "      <th>Lighting_Conditions</th>\n",
       "      <th>Weather_Conditions</th>\n",
       "      <th>Vehicle_Number</th>\n",
       "      <th>TypeofVehicle</th>\n",
       "      <th>Casualty_Class</th>\n",
       "      <th>Casualty_Severity</th>\n",
       "      <th>Casualty_Descr</th>\n",
       "      <th>SexofCasualty</th>\n",
       "      <th>AgeofCasualty</th>\n",
       "    </tr>\n",
       "  </thead>\n",
       "  <tbody>\n",
       "    <tr>\n",
       "      <th>0</th>\n",
       "      <td>2</td>\n",
       "      <td>18:00:00</td>\n",
       "      <td>3</td>\n",
       "      <td>Dry</td>\n",
       "      <td>Daylight: street lights present</td>\n",
       "      <td>Fine without high winds</td>\n",
       "      <td>2</td>\n",
       "      <td>Pedal cycle</td>\n",
       "      <td>2</td>\n",
       "      <td>3</td>\n",
       "      <td>Slight</td>\n",
       "      <td>Female</td>\n",
       "      <td>6</td>\n",
       "    </tr>\n",
       "    <tr>\n",
       "      <th>1</th>\n",
       "      <td>2</td>\n",
       "      <td>18:00:00</td>\n",
       "      <td>3</td>\n",
       "      <td>Dry</td>\n",
       "      <td>Daylight: street lights present</td>\n",
       "      <td>Fine without high winds</td>\n",
       "      <td>2</td>\n",
       "      <td>Pedal cycle</td>\n",
       "      <td>2</td>\n",
       "      <td>3</td>\n",
       "      <td>Slight</td>\n",
       "      <td>Male</td>\n",
       "      <td>9</td>\n",
       "    </tr>\n",
       "    <tr>\n",
       "      <th>2</th>\n",
       "      <td>2</td>\n",
       "      <td>18:00:00</td>\n",
       "      <td>3</td>\n",
       "      <td>Dry</td>\n",
       "      <td>Daylight: street lights present</td>\n",
       "      <td>Fine without high winds</td>\n",
       "      <td>2</td>\n",
       "      <td>Pedal cycle</td>\n",
       "      <td>2</td>\n",
       "      <td>3</td>\n",
       "      <td>Slight</td>\n",
       "      <td>Female</td>\n",
       "      <td>39</td>\n",
       "    </tr>\n",
       "    <tr>\n",
       "      <th>3</th>\n",
       "      <td>2</td>\n",
       "      <td>18:00:00</td>\n",
       "      <td>3</td>\n",
       "      <td>Dry</td>\n",
       "      <td>Daylight: street lights present</td>\n",
       "      <td>Fine without high winds</td>\n",
       "      <td>2</td>\n",
       "      <td>Pedal cycle</td>\n",
       "      <td>2</td>\n",
       "      <td>3</td>\n",
       "      <td>Slight</td>\n",
       "      <td>Male</td>\n",
       "      <td>5</td>\n",
       "    </tr>\n",
       "    <tr>\n",
       "      <th>4</th>\n",
       "      <td>2</td>\n",
       "      <td>18:00:00</td>\n",
       "      <td>3</td>\n",
       "      <td>Dry</td>\n",
       "      <td>Daylight: street lights present</td>\n",
       "      <td>Fine without high winds</td>\n",
       "      <td>2</td>\n",
       "      <td>Pedal cycle</td>\n",
       "      <td>2</td>\n",
       "      <td>3</td>\n",
       "      <td>Slight</td>\n",
       "      <td>Female</td>\n",
       "      <td>8</td>\n",
       "    </tr>\n",
       "  </tbody>\n",
       "</table>\n",
       "</div>"
      ],
      "text/plain": [
       "   Number of Vehicles Time(3hrs) 1stRoadClass Road_Surface  \\\n",
       "0                   2   18:00:00            3          Dry   \n",
       "1                   2   18:00:00            3          Dry   \n",
       "2                   2   18:00:00            3          Dry   \n",
       "3                   2   18:00:00            3          Dry   \n",
       "4                   2   18:00:00            3          Dry   \n",
       "\n",
       "               Lighting_Conditions       Weather_Conditions  Vehicle_Number  \\\n",
       "0  Daylight: street lights present  Fine without high winds               2   \n",
       "1  Daylight: street lights present  Fine without high winds               2   \n",
       "2  Daylight: street lights present  Fine without high winds               2   \n",
       "3  Daylight: street lights present  Fine without high winds               2   \n",
       "4  Daylight: street lights present  Fine without high winds               2   \n",
       "\n",
       "  TypeofVehicle  Casualty_Class  Casualty_Severity Casualty_Descr  \\\n",
       "0   Pedal cycle               2                  3         Slight   \n",
       "1   Pedal cycle               2                  3         Slight   \n",
       "2   Pedal cycle               2                  3         Slight   \n",
       "3   Pedal cycle               2                  3         Slight   \n",
       "4   Pedal cycle               2                  3         Slight   \n",
       "\n",
       "  SexofCasualty  AgeofCasualty  \n",
       "0        Female              6  \n",
       "1          Male              9  \n",
       "2        Female             39  \n",
       "3          Male              5  \n",
       "4        Female              8  "
      ]
     },
     "execution_count": 372,
     "metadata": {},
     "output_type": "execute_result"
    }
   ],
   "source": [
    "df1.head()"
   ]
  },
  {
   "cell_type": "code",
   "execution_count": 373,
   "metadata": {},
   "outputs": [],
   "source": [
    "df_rs=df1.Road_Surface.value_counts().to_dict()\n"
   ]
  },
  {
   "cell_type": "code",
   "execution_count": 374,
   "metadata": {},
   "outputs": [],
   "source": [
    "df1.Road_Surface=df1.Road_Surface.map(df_rs)"
   ]
  },
  {
   "cell_type": "code",
   "execution_count": 375,
   "metadata": {},
   "outputs": [
    {
     "data": {
      "text/html": [
       "<div>\n",
       "<style scoped>\n",
       "    .dataframe tbody tr th:only-of-type {\n",
       "        vertical-align: middle;\n",
       "    }\n",
       "\n",
       "    .dataframe tbody tr th {\n",
       "        vertical-align: top;\n",
       "    }\n",
       "\n",
       "    .dataframe thead th {\n",
       "        text-align: right;\n",
       "    }\n",
       "</style>\n",
       "<table border=\"1\" class=\"dataframe\">\n",
       "  <thead>\n",
       "    <tr style=\"text-align: right;\">\n",
       "      <th></th>\n",
       "      <th>Number of Vehicles</th>\n",
       "      <th>Time(3hrs)</th>\n",
       "      <th>1stRoadClass</th>\n",
       "      <th>Road_Surface</th>\n",
       "      <th>Lighting_Conditions</th>\n",
       "      <th>Weather_Conditions</th>\n",
       "      <th>Vehicle_Number</th>\n",
       "      <th>TypeofVehicle</th>\n",
       "      <th>Casualty_Class</th>\n",
       "      <th>Casualty_Severity</th>\n",
       "      <th>Casualty_Descr</th>\n",
       "      <th>SexofCasualty</th>\n",
       "      <th>AgeofCasualty</th>\n",
       "    </tr>\n",
       "  </thead>\n",
       "  <tbody>\n",
       "    <tr>\n",
       "      <th>0</th>\n",
       "      <td>2</td>\n",
       "      <td>18:00:00</td>\n",
       "      <td>3</td>\n",
       "      <td>4532</td>\n",
       "      <td>Daylight: street lights present</td>\n",
       "      <td>Fine without high winds</td>\n",
       "      <td>2</td>\n",
       "      <td>Pedal cycle</td>\n",
       "      <td>2</td>\n",
       "      <td>3</td>\n",
       "      <td>Slight</td>\n",
       "      <td>Female</td>\n",
       "      <td>6</td>\n",
       "    </tr>\n",
       "    <tr>\n",
       "      <th>1</th>\n",
       "      <td>2</td>\n",
       "      <td>18:00:00</td>\n",
       "      <td>3</td>\n",
       "      <td>4532</td>\n",
       "      <td>Daylight: street lights present</td>\n",
       "      <td>Fine without high winds</td>\n",
       "      <td>2</td>\n",
       "      <td>Pedal cycle</td>\n",
       "      <td>2</td>\n",
       "      <td>3</td>\n",
       "      <td>Slight</td>\n",
       "      <td>Male</td>\n",
       "      <td>9</td>\n",
       "    </tr>\n",
       "    <tr>\n",
       "      <th>2</th>\n",
       "      <td>2</td>\n",
       "      <td>18:00:00</td>\n",
       "      <td>3</td>\n",
       "      <td>4532</td>\n",
       "      <td>Daylight: street lights present</td>\n",
       "      <td>Fine without high winds</td>\n",
       "      <td>2</td>\n",
       "      <td>Pedal cycle</td>\n",
       "      <td>2</td>\n",
       "      <td>3</td>\n",
       "      <td>Slight</td>\n",
       "      <td>Female</td>\n",
       "      <td>39</td>\n",
       "    </tr>\n",
       "    <tr>\n",
       "      <th>3</th>\n",
       "      <td>2</td>\n",
       "      <td>18:00:00</td>\n",
       "      <td>3</td>\n",
       "      <td>4532</td>\n",
       "      <td>Daylight: street lights present</td>\n",
       "      <td>Fine without high winds</td>\n",
       "      <td>2</td>\n",
       "      <td>Pedal cycle</td>\n",
       "      <td>2</td>\n",
       "      <td>3</td>\n",
       "      <td>Slight</td>\n",
       "      <td>Male</td>\n",
       "      <td>5</td>\n",
       "    </tr>\n",
       "    <tr>\n",
       "      <th>4</th>\n",
       "      <td>2</td>\n",
       "      <td>18:00:00</td>\n",
       "      <td>3</td>\n",
       "      <td>4532</td>\n",
       "      <td>Daylight: street lights present</td>\n",
       "      <td>Fine without high winds</td>\n",
       "      <td>2</td>\n",
       "      <td>Pedal cycle</td>\n",
       "      <td>2</td>\n",
       "      <td>3</td>\n",
       "      <td>Slight</td>\n",
       "      <td>Female</td>\n",
       "      <td>8</td>\n",
       "    </tr>\n",
       "  </tbody>\n",
       "</table>\n",
       "</div>"
      ],
      "text/plain": [
       "   Number of Vehicles Time(3hrs) 1stRoadClass  Road_Surface  \\\n",
       "0                   2   18:00:00            3          4532   \n",
       "1                   2   18:00:00            3          4532   \n",
       "2                   2   18:00:00            3          4532   \n",
       "3                   2   18:00:00            3          4532   \n",
       "4                   2   18:00:00            3          4532   \n",
       "\n",
       "               Lighting_Conditions       Weather_Conditions  Vehicle_Number  \\\n",
       "0  Daylight: street lights present  Fine without high winds               2   \n",
       "1  Daylight: street lights present  Fine without high winds               2   \n",
       "2  Daylight: street lights present  Fine without high winds               2   \n",
       "3  Daylight: street lights present  Fine without high winds               2   \n",
       "4  Daylight: street lights present  Fine without high winds               2   \n",
       "\n",
       "  TypeofVehicle  Casualty_Class  Casualty_Severity Casualty_Descr  \\\n",
       "0   Pedal cycle               2                  3         Slight   \n",
       "1   Pedal cycle               2                  3         Slight   \n",
       "2   Pedal cycle               2                  3         Slight   \n",
       "3   Pedal cycle               2                  3         Slight   \n",
       "4   Pedal cycle               2                  3         Slight   \n",
       "\n",
       "  SexofCasualty  AgeofCasualty  \n",
       "0        Female              6  \n",
       "1          Male              9  \n",
       "2        Female             39  \n",
       "3          Male              5  \n",
       "4        Female              8  "
      ]
     },
     "execution_count": 375,
     "metadata": {},
     "output_type": "execute_result"
    }
   ],
   "source": [
    "df1.head()"
   ]
  },
  {
   "cell_type": "code",
   "execution_count": 376,
   "metadata": {},
   "outputs": [
    {
     "data": {
      "text/html": [
       "<div>\n",
       "<style scoped>\n",
       "    .dataframe tbody tr th:only-of-type {\n",
       "        vertical-align: middle;\n",
       "    }\n",
       "\n",
       "    .dataframe tbody tr th {\n",
       "        vertical-align: top;\n",
       "    }\n",
       "\n",
       "    .dataframe thead th {\n",
       "        text-align: right;\n",
       "    }\n",
       "</style>\n",
       "<table border=\"1\" class=\"dataframe\">\n",
       "  <thead>\n",
       "    <tr style=\"text-align: right;\">\n",
       "      <th></th>\n",
       "      <th>Number of Vehicles</th>\n",
       "      <th>Time(3hrs)</th>\n",
       "      <th>1stRoadClass</th>\n",
       "      <th>Road_Surface</th>\n",
       "      <th>Lighting_Conditions</th>\n",
       "      <th>Weather_Conditions</th>\n",
       "      <th>Vehicle_Number</th>\n",
       "      <th>TypeofVehicle</th>\n",
       "      <th>Casualty_Class</th>\n",
       "      <th>Casualty_Severity</th>\n",
       "      <th>Casualty_Descr</th>\n",
       "      <th>SexofCasualty</th>\n",
       "      <th>AgeofCasualty</th>\n",
       "    </tr>\n",
       "  </thead>\n",
       "  <tbody>\n",
       "    <tr>\n",
       "      <th>0</th>\n",
       "      <td>2</td>\n",
       "      <td>18:00:00</td>\n",
       "      <td>3</td>\n",
       "      <td>4532</td>\n",
       "      <td>4013</td>\n",
       "      <td>Fine without high winds</td>\n",
       "      <td>2</td>\n",
       "      <td>Pedal cycle</td>\n",
       "      <td>2</td>\n",
       "      <td>3</td>\n",
       "      <td>Slight</td>\n",
       "      <td>Female</td>\n",
       "      <td>6</td>\n",
       "    </tr>\n",
       "    <tr>\n",
       "      <th>1</th>\n",
       "      <td>2</td>\n",
       "      <td>18:00:00</td>\n",
       "      <td>3</td>\n",
       "      <td>4532</td>\n",
       "      <td>4013</td>\n",
       "      <td>Fine without high winds</td>\n",
       "      <td>2</td>\n",
       "      <td>Pedal cycle</td>\n",
       "      <td>2</td>\n",
       "      <td>3</td>\n",
       "      <td>Slight</td>\n",
       "      <td>Male</td>\n",
       "      <td>9</td>\n",
       "    </tr>\n",
       "    <tr>\n",
       "      <th>2</th>\n",
       "      <td>2</td>\n",
       "      <td>18:00:00</td>\n",
       "      <td>3</td>\n",
       "      <td>4532</td>\n",
       "      <td>4013</td>\n",
       "      <td>Fine without high winds</td>\n",
       "      <td>2</td>\n",
       "      <td>Pedal cycle</td>\n",
       "      <td>2</td>\n",
       "      <td>3</td>\n",
       "      <td>Slight</td>\n",
       "      <td>Female</td>\n",
       "      <td>39</td>\n",
       "    </tr>\n",
       "    <tr>\n",
       "      <th>3</th>\n",
       "      <td>2</td>\n",
       "      <td>18:00:00</td>\n",
       "      <td>3</td>\n",
       "      <td>4532</td>\n",
       "      <td>4013</td>\n",
       "      <td>Fine without high winds</td>\n",
       "      <td>2</td>\n",
       "      <td>Pedal cycle</td>\n",
       "      <td>2</td>\n",
       "      <td>3</td>\n",
       "      <td>Slight</td>\n",
       "      <td>Male</td>\n",
       "      <td>5</td>\n",
       "    </tr>\n",
       "    <tr>\n",
       "      <th>4</th>\n",
       "      <td>2</td>\n",
       "      <td>18:00:00</td>\n",
       "      <td>3</td>\n",
       "      <td>4532</td>\n",
       "      <td>4013</td>\n",
       "      <td>Fine without high winds</td>\n",
       "      <td>2</td>\n",
       "      <td>Pedal cycle</td>\n",
       "      <td>2</td>\n",
       "      <td>3</td>\n",
       "      <td>Slight</td>\n",
       "      <td>Female</td>\n",
       "      <td>8</td>\n",
       "    </tr>\n",
       "  </tbody>\n",
       "</table>\n",
       "</div>"
      ],
      "text/plain": [
       "   Number of Vehicles Time(3hrs) 1stRoadClass  Road_Surface  \\\n",
       "0                   2   18:00:00            3          4532   \n",
       "1                   2   18:00:00            3          4532   \n",
       "2                   2   18:00:00            3          4532   \n",
       "3                   2   18:00:00            3          4532   \n",
       "4                   2   18:00:00            3          4532   \n",
       "\n",
       "   Lighting_Conditions       Weather_Conditions  Vehicle_Number TypeofVehicle  \\\n",
       "0                 4013  Fine without high winds               2   Pedal cycle   \n",
       "1                 4013  Fine without high winds               2   Pedal cycle   \n",
       "2                 4013  Fine without high winds               2   Pedal cycle   \n",
       "3                 4013  Fine without high winds               2   Pedal cycle   \n",
       "4                 4013  Fine without high winds               2   Pedal cycle   \n",
       "\n",
       "   Casualty_Class  Casualty_Severity Casualty_Descr SexofCasualty  \\\n",
       "0               2                  3         Slight        Female   \n",
       "1               2                  3         Slight          Male   \n",
       "2               2                  3         Slight        Female   \n",
       "3               2                  3         Slight          Male   \n",
       "4               2                  3         Slight        Female   \n",
       "\n",
       "   AgeofCasualty  \n",
       "0              6  \n",
       "1              9  \n",
       "2             39  \n",
       "3              5  \n",
       "4              8  "
      ]
     },
     "execution_count": 376,
     "metadata": {},
     "output_type": "execute_result"
    }
   ],
   "source": [
    "df_lc=df1.Lighting_Conditions.value_counts().to_dict()\n",
    "df1.Lighting_Conditions=df1.Lighting_Conditions.map(df_lc)\n",
    "df1.head()"
   ]
  },
  {
   "cell_type": "code",
   "execution_count": 377,
   "metadata": {},
   "outputs": [
    {
     "data": {
      "text/html": [
       "<div>\n",
       "<style scoped>\n",
       "    .dataframe tbody tr th:only-of-type {\n",
       "        vertical-align: middle;\n",
       "    }\n",
       "\n",
       "    .dataframe tbody tr th {\n",
       "        vertical-align: top;\n",
       "    }\n",
       "\n",
       "    .dataframe thead th {\n",
       "        text-align: right;\n",
       "    }\n",
       "</style>\n",
       "<table border=\"1\" class=\"dataframe\">\n",
       "  <thead>\n",
       "    <tr style=\"text-align: right;\">\n",
       "      <th></th>\n",
       "      <th>Number of Vehicles</th>\n",
       "      <th>Time(3hrs)</th>\n",
       "      <th>1stRoadClass</th>\n",
       "      <th>Road_Surface</th>\n",
       "      <th>Lighting_Conditions</th>\n",
       "      <th>Weather_Conditions</th>\n",
       "      <th>Vehicle_Number</th>\n",
       "      <th>TypeofVehicle</th>\n",
       "      <th>Casualty_Class</th>\n",
       "      <th>Casualty_Severity</th>\n",
       "      <th>Casualty_Descr</th>\n",
       "      <th>SexofCasualty</th>\n",
       "      <th>AgeofCasualty</th>\n",
       "    </tr>\n",
       "  </thead>\n",
       "  <tbody>\n",
       "    <tr>\n",
       "      <th>0</th>\n",
       "      <td>2</td>\n",
       "      <td>18:00:00</td>\n",
       "      <td>3</td>\n",
       "      <td>4532</td>\n",
       "      <td>4013</td>\n",
       "      <td>5344</td>\n",
       "      <td>2</td>\n",
       "      <td>1350</td>\n",
       "      <td>2</td>\n",
       "      <td>3</td>\n",
       "      <td>Slight</td>\n",
       "      <td>2530</td>\n",
       "      <td>6</td>\n",
       "    </tr>\n",
       "    <tr>\n",
       "      <th>1</th>\n",
       "      <td>2</td>\n",
       "      <td>18:00:00</td>\n",
       "      <td>3</td>\n",
       "      <td>4532</td>\n",
       "      <td>4013</td>\n",
       "      <td>5344</td>\n",
       "      <td>2</td>\n",
       "      <td>1350</td>\n",
       "      <td>2</td>\n",
       "      <td>3</td>\n",
       "      <td>Slight</td>\n",
       "      <td>3575</td>\n",
       "      <td>9</td>\n",
       "    </tr>\n",
       "    <tr>\n",
       "      <th>2</th>\n",
       "      <td>2</td>\n",
       "      <td>18:00:00</td>\n",
       "      <td>3</td>\n",
       "      <td>4532</td>\n",
       "      <td>4013</td>\n",
       "      <td>5344</td>\n",
       "      <td>2</td>\n",
       "      <td>1350</td>\n",
       "      <td>2</td>\n",
       "      <td>3</td>\n",
       "      <td>Slight</td>\n",
       "      <td>2530</td>\n",
       "      <td>39</td>\n",
       "    </tr>\n",
       "    <tr>\n",
       "      <th>3</th>\n",
       "      <td>2</td>\n",
       "      <td>18:00:00</td>\n",
       "      <td>3</td>\n",
       "      <td>4532</td>\n",
       "      <td>4013</td>\n",
       "      <td>5344</td>\n",
       "      <td>2</td>\n",
       "      <td>1350</td>\n",
       "      <td>2</td>\n",
       "      <td>3</td>\n",
       "      <td>Slight</td>\n",
       "      <td>3575</td>\n",
       "      <td>5</td>\n",
       "    </tr>\n",
       "    <tr>\n",
       "      <th>4</th>\n",
       "      <td>2</td>\n",
       "      <td>18:00:00</td>\n",
       "      <td>3</td>\n",
       "      <td>4532</td>\n",
       "      <td>4013</td>\n",
       "      <td>5344</td>\n",
       "      <td>2</td>\n",
       "      <td>1350</td>\n",
       "      <td>2</td>\n",
       "      <td>3</td>\n",
       "      <td>Slight</td>\n",
       "      <td>2530</td>\n",
       "      <td>8</td>\n",
       "    </tr>\n",
       "  </tbody>\n",
       "</table>\n",
       "</div>"
      ],
      "text/plain": [
       "   Number of Vehicles Time(3hrs) 1stRoadClass  Road_Surface  \\\n",
       "0                   2   18:00:00            3          4532   \n",
       "1                   2   18:00:00            3          4532   \n",
       "2                   2   18:00:00            3          4532   \n",
       "3                   2   18:00:00            3          4532   \n",
       "4                   2   18:00:00            3          4532   \n",
       "\n",
       "   Lighting_Conditions  Weather_Conditions  Vehicle_Number  TypeofVehicle  \\\n",
       "0                 4013                5344               2           1350   \n",
       "1                 4013                5344               2           1350   \n",
       "2                 4013                5344               2           1350   \n",
       "3                 4013                5344               2           1350   \n",
       "4                 4013                5344               2           1350   \n",
       "\n",
       "   Casualty_Class  Casualty_Severity Casualty_Descr  SexofCasualty  \\\n",
       "0               2                  3         Slight           2530   \n",
       "1               2                  3         Slight           3575   \n",
       "2               2                  3         Slight           2530   \n",
       "3               2                  3         Slight           3575   \n",
       "4               2                  3         Slight           2530   \n",
       "\n",
       "   AgeofCasualty  \n",
       "0              6  \n",
       "1              9  \n",
       "2             39  \n",
       "3              5  \n",
       "4              8  "
      ]
     },
     "execution_count": 377,
     "metadata": {},
     "output_type": "execute_result"
    }
   ],
   "source": [
    "df_wc=df1.Weather_Conditions.value_counts().to_dict()\n",
    "df1.Weather_Conditions=df1.Weather_Conditions.map(df_wc)\n",
    "df_tv=df1.TypeofVehicle.value_counts().to_dict()\n",
    "df1.TypeofVehicle=df1.TypeofVehicle.map(df_tv)\n",
    "df_sex=df1.SexofCasualty.value_counts().to_dict()\n",
    "df1.SexofCasualty=df1.SexofCasualty.map(df_sex)\n",
    "df1.head()"
   ]
  },
  {
   "cell_type": "code",
   "execution_count": 378,
   "metadata": {},
   "outputs": [],
   "source": [
    "\n",
    "import seaborn as sns\n"
   ]
  },
  {
   "cell_type": "code",
   "execution_count": 379,
   "metadata": {},
   "outputs": [
    {
     "data": {
      "text/plain": [
       "Index(['Number of Vehicles', 'Time(3hrs)', '1stRoadClass', 'Road_Surface',\n",
       "       'Lighting_Conditions', 'Weather_Conditions', 'Vehicle_Number',\n",
       "       'TypeofVehicle', 'Casualty_Class', 'Casualty_Severity',\n",
       "       'Casualty_Descr', 'SexofCasualty', 'AgeofCasualty'],\n",
       "      dtype='object')"
      ]
     },
     "execution_count": 379,
     "metadata": {},
     "output_type": "execute_result"
    }
   ],
   "source": [
    "df1.columns"
   ]
  },
  {
   "cell_type": "code",
   "execution_count": 380,
   "metadata": {},
   "outputs": [
    {
     "name": "stdout",
     "output_type": "stream",
     "text": [
      "   Number of Vehicles  Road_Surface  Lighting_Conditions  Weather_Conditions  \\\n",
      "0                   2          4532                 4013                5344   \n",
      "1                   2          4532                 4013                5344   \n",
      "2                   2          4532                 4013                5344   \n",
      "3                   2          4532                 4013                5344   \n",
      "4                   2          4532                 4013                5344   \n",
      "\n",
      "   Vehicle_Number  TypeofVehicle  Casualty_Class  Casualty_Severity  \\\n",
      "0               2           1350               2                  3   \n",
      "1               2           1350               2                  3   \n",
      "2               2           1350               2                  3   \n",
      "3               2           1350               2                  3   \n",
      "4               2           1350               2                  3   \n",
      "\n",
      "   SexofCasualty  AgeofCasualty  \n",
      "0           2530              6  \n",
      "1           3575              9  \n",
      "2           2530             39  \n",
      "3           3575              5  \n",
      "4           2530              8   0    3\n",
      "1    3\n",
      "2    3\n",
      "3    3\n",
      "4    3\n",
      "Name: Casualty_Severity, dtype: int64\n"
     ]
    }
   ],
   "source": [
    "x = df1[['Number of Vehicles', 'Road_Surface',\n",
    "       'Lighting_Conditions', 'Weather_Conditions', 'Vehicle_Number',\n",
    "       'TypeofVehicle', 'Casualty_Class', 'Casualty_Severity', 'SexofCasualty', 'AgeofCasualty']]\n",
    "y = df1['Casualty_Severity']\n",
    "print(x.head(),y.head())"
   ]
  },
  {
   "cell_type": "code",
   "execution_count": 381,
   "metadata": {},
   "outputs": [],
   "source": [
    "from sklearn.model_selection import train_test_split\n",
    "from sklearn.preprocessing import StandardScaler"
   ]
  },
  {
   "cell_type": "code",
   "execution_count": 382,
   "metadata": {},
   "outputs": [
    {
     "data": {
      "text/plain": [
       "array([[ 0.0790905 ,  0.5842581 ,  0.7068143 , ...,  0.43387037,\n",
       "        -1.18871505, -1.61465333],\n",
       "       [ 0.0790905 ,  0.5842581 ,  0.7068143 , ...,  0.43387037,\n",
       "         0.8412445 , -1.45409707],\n",
       "       [ 0.0790905 ,  0.5842581 ,  0.7068143 , ...,  0.43387037,\n",
       "        -1.18871505,  0.15146552],\n",
       "       ...,\n",
       "       [ 0.0790905 , -1.61528478, -1.12388738, ...,  0.43387037,\n",
       "         0.8412445 , -0.86539079],\n",
       "       [ 0.0790905 , -1.61528478, -1.12388738, ..., -2.01870241,\n",
       "         0.8412445 , -0.11612824],\n",
       "       [ 0.0790905 , -1.61528478,  0.7068143 , ...,  0.43387037,\n",
       "         0.8412445 , -0.49075952]])"
      ]
     },
     "execution_count": 382,
     "metadata": {},
     "output_type": "execute_result"
    }
   ],
   "source": [
    "s=StandardScaler()\n",
    "s.fit(x)\n",
    "x_scale=s.transform(x)\n",
    "x_scale"
   ]
  },
  {
   "cell_type": "code",
   "execution_count": 383,
   "metadata": {},
   "outputs": [],
   "source": [
    "from sklearn.tree import DecisionTreeClassifier\n",
    "from sklearn.model_selection import train_test_split"
   ]
  },
  {
   "cell_type": "code",
   "execution_count": 384,
   "metadata": {},
   "outputs": [],
   "source": [
    "xtrain,xtest,ytrain,ytest=train_test_split(x_scale,y,test_size=0.2,random_state=1)"
   ]
  },
  {
   "cell_type": "code",
   "execution_count": 385,
   "metadata": {},
   "outputs": [
    {
     "data": {
      "text/plain": [
       "array([[ 0.0790905 , -1.61528478,  0.7068143 , ...,  0.43387037,\n",
       "        -1.18871505,  2.3457344 ],\n",
       "       [ 0.0790905 ,  0.5842581 ,  0.7068143 , ...,  0.43387037,\n",
       "        -1.18871505, -0.91890954],\n",
       "       [ 0.0790905 ,  0.5842581 ,  0.7068143 , ...,  0.43387037,\n",
       "        -1.18871505, -0.06260949],\n",
       "       ...,\n",
       "       [ 0.0790905 , -1.61528478, -1.12388738, ...,  0.43387037,\n",
       "         0.8412445 , -0.00909074],\n",
       "       [ 0.0790905 ,  0.5842581 ,  0.7068143 , ...,  0.43387037,\n",
       "        -1.18871505, -0.75835328],\n",
       "       [ 0.0790905 ,  0.5842581 , -1.78064452, ...,  0.43387037,\n",
       "         0.8412445 ,  0.79369056]])"
      ]
     },
     "execution_count": 385,
     "metadata": {},
     "output_type": "execute_result"
    }
   ],
   "source": [
    "xtrain"
   ]
  },
  {
   "cell_type": "code",
   "execution_count": 386,
   "metadata": {},
   "outputs": [
    {
     "name": "stdout",
     "output_type": "stream",
     "text": [
      "Train set: (4884, 10) (4884,)\n",
      "Test set: (1221, 10) (1221,)\n"
     ]
    }
   ],
   "source": [
    "print('Train set:', xtrain.shape, ytrain.shape)\n",
    "print('Test set:', xtest.shape, ytest.shape)"
   ]
  },
  {
   "cell_type": "code",
   "execution_count": 387,
   "metadata": {},
   "outputs": [],
   "source": [
    "#MODELING"
   ]
  },
  {
   "cell_type": "code",
   "execution_count": 388,
   "metadata": {},
   "outputs": [
    {
     "data": {
      "text/plain": [
       "KNeighborsClassifier(n_neighbors=4)"
      ]
     },
     "execution_count": 388,
     "metadata": {},
     "output_type": "execute_result"
    }
   ],
   "source": [
    "from sklearn.neighbors import KNeighborsClassifier\n",
    "k=4\n",
    "neigh = KNeighborsClassifier(n_neighbors = k).fit(xtrain,ytrain)\n",
    "neigh"
   ]
  },
  {
   "cell_type": "code",
   "execution_count": 389,
   "metadata": {},
   "outputs": [
    {
     "data": {
      "text/plain": [
       "array([3, 3, 3, 3, 2], dtype=int64)"
      ]
     },
     "execution_count": 389,
     "metadata": {},
     "output_type": "execute_result"
    }
   ],
   "source": [
    "yhat = neigh.predict(xtest)\n",
    "yhat[0:5]"
   ]
  },
  {
   "cell_type": "code",
   "execution_count": 390,
   "metadata": {},
   "outputs": [
    {
     "name": "stdout",
     "output_type": "stream",
     "text": [
      "Train set accuracy:  0.9989762489762489\n",
      "Test set accuracy:  0.9983619983619983\n"
     ]
    }
   ],
   "source": [
    "from sklearn import metrics\n",
    "print('Train set accuracy: ', metrics.accuracy_score(ytrain, neigh.predict(xtrain)))\n",
    "print('Test set accuracy: ', metrics.accuracy_score(ytest,yhat))"
   ]
  },
  {
   "cell_type": "code",
   "execution_count": 391,
   "metadata": {},
   "outputs": [
    {
     "data": {
      "text/plain": [
       "array([0.998362, 0.999181, 0.997543, 0.998362, 0.996724, 0.997543,\n",
       "       0.995905, 0.995905, 0.995086])"
      ]
     },
     "execution_count": 391,
     "metadata": {},
     "output_type": "execute_result"
    }
   ],
   "source": [
    "Ks=10\n",
    "mean_acc = np.zeros((Ks-1))\n",
    "std_acc = np.zeros((Ks-1))\n",
    "ConfusionMx = [];\n",
    "for n in range(1,Ks):\n",
    "    neigh = KNeighborsClassifier(n_neighbors = n).fit(xtrain, ytrain)\n",
    "    yhat = neigh.predict(xtest)\n",
    "    mean_acc[n-1]=metrics.accuracy_score(ytest,yhat)\n",
    "    std_acc[n-1]=np.std(yhat==ytest)/np.sqrt(yhat.shape[0])\n",
    "mean_acc"
   ]
  },
  {
   "cell_type": "code",
   "execution_count": 392,
   "metadata": {},
   "outputs": [
    {
     "data": {
      "image/png": "[encoded data removed]",
      "text/plain": [
       "<Figure size 432x288 with 1 Axes>"
      ]
     },
     "metadata": {
      "needs_background": "light"
     },
     "output_type": "display_data"
    }
   ],
   "source": [
    "plt.plot(range(1,Ks),mean_acc,'g')\n",
    "plt.fill_between(range(1,Ks),mean_acc - 1*std_acc, mean_acc + 1 * std_acc, alpha = 0.10)\n",
    "plt.legend(('Accuracy', '+/- 3Xstd'))\n",
    "plt.ylabel('Accuracy')\n",
    "plt.xlabel('Number of K')\n",
    "plt.tight_layout()\n",
    "plt.show()"
   ]
  },
  {
   "cell_type": "code",
   "execution_count": 393,
   "metadata": {},
   "outputs": [
    {
     "name": "stdout",
     "output_type": "stream",
     "text": [
      "The best accuracy:  0.9991809991809992 with k= 2\n"
     ]
    }
   ],
   "source": [
    "print(\"The best accuracy: \", mean_acc.max(), \"with k=\", mean_acc.argmax()+1)"
   ]
  },
  {
   "cell_type": "code",
   "execution_count": 394,
   "metadata": {},
   "outputs": [
    {
     "data": {
      "text/plain": [
       "KNeighborsClassifier(n_neighbors=2)"
      ]
     },
     "execution_count": 394,
     "metadata": {},
     "output_type": "execute_result"
    }
   ],
   "source": [
    "#rebuild model with best walue for K=2\n",
    "k=2\n",
    "neigh = KNeighborsClassifier(n_neighbors = k).fit(xtrain, ytrain)\n",
    "neigh"
   ]
  },
  {
   "cell_type": "code",
   "execution_count": 395,
   "metadata": {},
   "outputs": [
    {
     "data": {
      "text/plain": [
       "array([3, 3, 3, 3, 2], dtype=int64)"
      ]
     },
     "execution_count": 395,
     "metadata": {},
     "output_type": "execute_result"
    }
   ],
   "source": [
    "yhat = neigh.predict(xtest)\n",
    "yhat[0:5]"
   ]
  },
  {
   "cell_type": "code",
   "execution_count": 399,
   "metadata": {},
   "outputs": [
    {
     "name": "stdout",
     "output_type": "stream",
     "text": [
      "Train set accuracy: 1.00000\n",
      "Test set accuracy:  0.9991809991809992\n"
     ]
    }
   ],
   "source": [
    "from sklearn import metrics\n",
    "print('Train set accuracy: %.5f' % metrics.accuracy_score(ytrain, neigh.predict(xtrain)))\n",
    "print('Test set accuracy: ', metrics.accuracy_score(ytest,yhat))"
   ]
  },
  {
   "cell_type": "code",
   "execution_count": 397,
   "metadata": {},
   "outputs": [
    {
     "name": "stdout",
     "output_type": "stream",
     "text": [
      "F1 score: 0.99916\n"
     ]
    }
   ],
   "source": [
    "from sklearn.metrics import f1_score\n",
    "print('F1 score: %.5f' % f1_score(ytest,yhat, average = 'weighted'))"
   ]
  },
  {
   "cell_type": "code",
   "execution_count": 400,
   "metadata": {},
   "outputs": [
    {
     "data": {
      "text/plain": [
       "DecisionTreeClassifier(criterion='entropy', max_depth=5)"
      ]
     },
     "execution_count": 400,
     "metadata": {},
     "output_type": "execute_result"
    }
   ],
   "source": [
    "from sklearn.tree import DecisionTreeClassifier\n",
    "DT_model = DecisionTreeClassifier(criterion = 'entropy', max_depth = 5)\n",
    "DT_model.fit(xtrain,ytrain)\n",
    "DT_model"
   ]
  },
  {
   "cell_type": "code",
   "execution_count": 401,
   "metadata": {},
   "outputs": [
    {
     "data": {
      "text/plain": [
       "array([3, 3, 3, ..., 3, 3, 3], dtype=int64)"
      ]
     },
     "execution_count": 401,
     "metadata": {},
     "output_type": "execute_result"
    }
   ],
   "source": [
    "yhat = DT_model.predict(xtest)\n",
    "yhat"
   ]
  },
  {
   "cell_type": "code",
   "execution_count": 402,
   "metadata": {},
   "outputs": [
    {
     "name": "stdout",
     "output_type": "stream",
     "text": [
      "DecisionTree accuracy: 1.00000\n"
     ]
    }
   ],
   "source": [
    "from sklearn import metrics\n",
    "import matplotlib.pyplot as plt\n",
    "print('DecisionTree accuracy: %.5f' % metrics.accuracy_score(ytest,yhat))"
   ]
  },
  {
   "cell_type": "code",
   "execution_count": 403,
   "metadata": {},
   "outputs": [
    {
     "name": "stdout",
     "output_type": "stream",
     "text": [
      "F1 score: 1.00000\n"
     ]
    }
   ],
   "source": [
    "from sklearn.metrics import f1_score\n",
    "print('F1 score: %.5f' % f1_score(ytest,yhat, average = 'weighted'))"
   ]
  },
  {
   "cell_type": "code",
   "execution_count": null,
   "metadata": {},
   "outputs": [],
   "source": [
    "#Logistic Regression\n"
   ]
  },
  {
   "cell_type": "code",
   "execution_count": 339,
   "metadata": {},
   "outputs": [
    {
     "data": {
      "text/plain": [
       "LogisticRegression(C=0.01)"
      ]
     },
     "execution_count": 339,
     "metadata": {},
     "output_type": "execute_result"
    }
   ],
   "source": [
    "from sklearn.linear_model import LogisticRegression\n",
    "LR_model = LogisticRegression(C=0.01).fit(xtrain, ytrain)\n",
    "LR_model"
   ]
  },
  {
   "cell_type": "code",
   "execution_count": 340,
   "metadata": {},
   "outputs": [
    {
     "data": {
      "text/plain": [
       "array([3, 3, 3, ..., 3, 3, 3], dtype=int64)"
      ]
     },
     "execution_count": 340,
     "metadata": {},
     "output_type": "execute_result"
    }
   ],
   "source": [
    "yhat= LR_model.predict(xtest)\n",
    "yhat"
   ]
  },
  {
   "cell_type": "code",
   "execution_count": 342,
   "metadata": {},
   "outputs": [],
   "source": [
    "from sklearn.metrics import f1_score\n",
    "from sklearn.metrics import log_loss\n",
    "LR_yhat = LR_model.predict(xtest)\n",
    "LR_yhat_prob = LR_model.predict_proba(xtest)\n",
    "\n"
   ]
  },
  {
   "cell_type": "code",
   "execution_count": 343,
   "metadata": {},
   "outputs": [
    {
     "name": "stdout",
     "output_type": "stream",
     "text": [
      "LR f1 score: 0.9890324153058737\n",
      "LR LogLoss: 0.05359894464780914\n"
     ]
    }
   ],
   "source": [
    "print('LR f1 score:',f1_score(ytest, LR_yhat, average = 'weighted'))\n",
    "print('LR LogLoss:', log_loss(ytest,LR_yhat_prob))"
   ]
  },
  {
   "cell_type": "code",
   "execution_count": 344,
   "metadata": {},
   "outputs": [
    {
     "name": "stdout",
     "output_type": "stream",
     "text": [
      "Decision Tree Accuracy:  0.9926289926289926\n"
     ]
    }
   ],
   "source": [
    "from sklearn import metrics\n",
    "import matplotlib.pyplot as plt\n",
    "print('Decision Tree Accuracy: ', metrics.accuracy_score(ytest, yhat))"
   ]
  },
  {
   "cell_type": "code",
   "execution_count": 338,
   "metadata": {},
   "outputs": [
    {
     "name": "stdout",
     "output_type": "stream",
     "text": [
      "f1 score: 1.0\n",
      "Accuracy score: 1.0\n"
     ]
    }
   ],
   "source": [
    "print('f1 score:',metrics.f1_score(ytest,yhat, average = 'weighted'))\n",
    "print('Accuracy score:',metrics.accuracy_score(ytest,yhat))"
   ]
  },
  {
   "cell_type": "code",
   "execution_count": null,
   "metadata": {},
   "outputs": [],
   "source": []
  }
 ],
 "metadata": {
  "kernelspec": {
   "display_name": "Python 3",
   "language": "python",
   "name": "python3"
  },
  "language_info": {
   "codemirror_mode": {
    "name": "ipython",
    "version": 3
   },
   "file_extension": ".py",
   "mimetype": "text/x-python",
   "name": "python",
   "nbconvert_exporter": "python",
   "pygments_lexer": "ipython3",
   "version": "3.8.3"
  }
 },
 "nbformat": 4,
 "nbformat_minor": 4
}
